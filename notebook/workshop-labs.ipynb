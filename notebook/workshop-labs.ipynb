{
 "cells": [
  {
   "cell_type": "markdown",
   "id": "3eefa2b8-d9d1-47bf-ad2b-51e2273ec9fc",
   "metadata": {
    "tags": []
   },
   "source": [
    "# Lab 1"
   ]
  },
  {
   "cell_type": "markdown",
   "id": "e7469f38-b0e4-4762-88e4-6c594af851bb",
   "metadata": {},
   "source": [
    "### A SageMaker Pipeline\n",
    "\n",
    "The pipeline that we create follows a typical Machine Learning Application pattern of pre-processing, training, evaluation, and conditional model registration and publication, if the quality of the model is sufficient.\n",
    "\n",
    "### Getting some constants\n",
    "\n",
    "We get some constants from the local execution environment."
   ]
  },
  {
   "cell_type": "code",
   "execution_count": null,
   "id": "9210c487-268a-4a23-9aab-f06dbf678f8c",
   "metadata": {
    "tags": []
   },
   "outputs": [],
   "source": [
    "import boto3\n",
    "import sagemaker\n",
    "import time\n",
    "import json\n",
    "import base64\n",
    "import requests\n",
    "import argparse\n",
    "import os\n",
    "\n",
    "from boto3.dynamodb.conditions import Key\n",
    "from pipeline import get_pipeline\n",
    "\n",
    "region = boto3.Session().region_name\n",
    "role = sagemaker.get_execution_role()\n",
    "default_bucket = sagemaker.session.Session().default_bucket()\n",
    "account_number = boto3.client('sts').get_caller_identity().get('Account')\n",
    "client = boto3.client('sagemaker')"
   ]
  },
  {
   "cell_type": "code",
   "execution_count": 3,
   "id": "3419bf30-8257-4246-8252-ab8a80a8f995",
   "metadata": {
    "tags": []
   },
   "outputs": [],
   "source": [
    "model_package_group_name = f\"CustomerChurnGenericModel\"\n",
    "pipeline_name = f\"CustomerChurnPipeline\"\n",
    "generic_model_data_bucket_name = f\"sagemaker-mlaas-pooled-{region}-{account_number}\""
   ]
  },
  {
   "cell_type": "markdown",
   "id": "6d663d48-2738-4552-9888-3c91a8b4915e",
   "metadata": {
    "tags": []
   },
   "source": [
    "## Upload Sample Training Data"
   ]
  },
  {
   "cell_type": "code",
   "execution_count": null,
   "id": "448752a6-dba8-45da-bd00-010d5576dc48",
   "metadata": {
    "tags": []
   },
   "outputs": [],
   "source": [
    "s3_bucket_prefix = \"generic\"\n",
    "local_path = \"data/AnyCompany\"\n",
    "sagemaker.Session().upload_data(path=local_path,bucket=generic_model_data_bucket_name,key_prefix=s3_bucket_prefix)"
   ]
  },
  {
   "cell_type": "markdown",
   "id": "97355762-d626-4ec4-95a7-451430ebb4ab",
   "metadata": {
    "tags": []
   },
   "source": [
    "### Get the pipeline instance\n",
    "Here we get the pipeline instance from your pipeline module so that we can work with it."
   ]
  },
  {
   "cell_type": "code",
   "execution_count": null,
   "id": "f2d0ee29-78c0-47d0-8fc0-e2dfa9d658c6",
   "metadata": {
    "tags": []
   },
   "outputs": [],
   "source": [
    "pipeline = get_pipeline(\n",
    "    region=region,\n",
    "    role=role,\n",
    "    default_bucket=default_bucket,\n",
    "    model_package_group_name=model_package_group_name,\n",
    "    pipeline_name=pipeline_name,\n",
    ")"
   ]
  },
  {
   "cell_type": "markdown",
   "id": "bc1347fa-f6df-4812-a3fb-4f327631d4c6",
   "metadata": {},
   "source": [
    "### Submit the pipeline to SageMaker and start execution\n",
    "Let's submit our pipeline definition to the workflow service. The role passed in will be used by the workflow service to create all the jobs defined in the steps."
   ]
  },
  {
   "cell_type": "code",
   "execution_count": null,
   "id": "371669d0-e1c8-491d-8292-d87b3eb9250c",
   "metadata": {
    "tags": []
   },
   "outputs": [],
   "source": [
    "pipeline.upsert(role_arn=role)"
   ]
  },
  {
   "cell_type": "markdown",
   "id": "a3537204-0822-4f82-b45e-6f7e58fd1393",
   "metadata": {},
   "source": [
    "We'll start the pipeline, accepting all the default parameters.\n",
    "\n",
    "Values can also be passed into these pipeline parameters on starting of the pipeline, and will be covered later. "
   ]
  },
  {
   "cell_type": "code",
   "execution_count": 7,
   "id": "54291c9e-0c2b-4ef5-940d-043a6cee8ab2",
   "metadata": {
    "tags": []
   },
   "outputs": [],
   "source": [
    "execution = pipeline.start(\n",
    "    parameters=dict(\n",
    "        ProcessingInstanceType=\"ml.c5.xlarge\",\n",
    "        ProcessingInstanceCount=1,\n",
    "        TrainDataPath = f\"s3://{generic_model_data_bucket_name}/generic/train/train.csv\",\n",
    "        TestDataPath = f\"s3://{generic_model_data_bucket_name}/generic/test/test.csv\",\n",
    "        ValidationDataPath = f\"s3://{generic_model_data_bucket_name}/generic/validation/validation.csv\",\n",
    "        ModelPath = f\"s3://{generic_model_data_bucket_name}/model_artifacts\",\n",
    "        BucketName = f\"{generic_model_data_bucket_name}\",\n",
    "        ObjectKey = f\"model_artifacts/basic_tier/output\",\n",
    "        ModelPackageGroupName = f\"{model_package_group_name}\",\n",
    "        ModelVersion = \"1\"\n",
    "    )\n",
    ")\n"
   ]
  },
  {
   "cell_type": "markdown",
   "id": "6bb65de2-e037-4318-a1b7-486fdac2e610",
   "metadata": {},
   "source": [
    "### Pipeline Operations: examining and waiting for pipeline execution\n",
    "\n",
    "Now we describe execution instance and list the steps in the execution to find out more about the execution."
   ]
  },
  {
   "cell_type": "code",
   "execution_count": null,
   "id": "352bb3e8-b9a5-4751-bc01-59706ec1e196",
   "metadata": {
    "tags": []
   },
   "outputs": [],
   "source": [
    "execution.describe()"
   ]
  },
  {
   "cell_type": "markdown",
   "id": "94a0aed1-4854-4dc9-8458-4c2c58106fc4",
   "metadata": {},
   "source": [
    "We can wait for the execution by invoking `wait()` on the execution. The pipeline execution can take about 10 minutes to be completed. For the purpose of this workshop, a trained model artifact has already been provided in the S3 folder to allow us to proceed with the deployment without waiting for this pipeline to be completed. We will back and check when its executive is completed. "
   ]
  },
  {
   "cell_type": "code",
   "execution_count": 9,
   "id": "1c106733-0054-49ac-9347-8a3a60193bee",
   "metadata": {
    "tags": []
   },
   "outputs": [],
   "source": [
    "# execution.wait()"
   ]
  },
  {
   "cell_type": "markdown",
   "id": "f99894ff-32a0-4aae-bd49-5605ac606680",
   "metadata": {},
   "source": [
    "## Create / Update Basic Tier SageMaker Endpoint"
   ]
  },
  {
   "cell_type": "markdown",
   "id": "cc3df3c9-509e-4b56-9a64-f521b7ad3e9f",
   "metadata": {},
   "source": [
    "We will deploy the model to a SageMaker dedicated endpoint."
   ]
  },
  {
   "cell_type": "code",
   "execution_count": null,
   "id": "b938959e-b9ff-4718-ab10-bf3c574f3f2a",
   "metadata": {
    "tags": []
   },
   "outputs": [],
   "source": [
    "timestamp = int(time.time())\n",
    "\n",
    "model_name=f'GenericModel-{timestamp}'\n",
    "endpoint_config_name = f\"EndpointConfig-{model_name}-{timestamp}\"\n",
    "endpoint_name = \"Endpoint-GenericModel\"\n",
    "shared_inference_api_url = \"https://lmla2luuak.execute-api.us-east-1.amazonaws.com/\" # Example: https://3289dfakjkak.execute-api.us-east-1.amazonaws.com/\n",
    "model_artifact_file_name = \"generic.model.1.tar.gz\"\n",
    "\n",
    "# get image URI\n",
    "image_uri = sagemaker.image_uris.retrieve(\n",
    "        framework=\"xgboost\",\n",
    "        region=region,\n",
    "        version=\"1.0-1\",\n",
    "        py_version=\"py3\",\n",
    "        instance_type='ml.t2.medium',\n",
    "    )\n",
    "\n",
    "# create sagemaker model\n",
    "create_model_api_response = client.create_model(\n",
    "                                    ModelName=model_name,\n",
    "                                    PrimaryContainer={\n",
    "                                        'Image': image_uri,\n",
    "                                        'ModelDataUrl': f\"s3://{generic_model_data_bucket_name}/model_artifacts/basic_tier/output/{model_artifact_file_name}\",\n",
    "                                        'Environment': {}\n",
    "                                    },\n",
    "                                    ExecutionRoleArn=role\n",
    "                            )\n",
    "print (\"create_model API response\", create_model_api_response)\n",
    "\n",
    "# create sagemaker endpoint config\n",
    "update_endpoint_config_api_response = client.create_endpoint_config(\n",
    "                                            EndpointConfigName=endpoint_config_name,\n",
    "                                            ProductionVariants=[\n",
    "                                                {\n",
    "                                                    'VariantName': 'prod1',\n",
    "                                                    'ModelName': model_name,\n",
    "                                                    'InitialInstanceCount': 1,\n",
    "                                                    'InstanceType': 'ml.t2.medium'\n",
    "                                                },\n",
    "                                            ]\n",
    "                                       )\n",
    "\n",
    "print (\"update_endpoint_config API response\", update_endpoint_config_api_response)\n",
    "\n",
    "# update sagemaker endpoint\n",
    "update_endpoint_api_response = client.update_endpoint(\n",
    "                                    EndpointName=endpoint_name,\n",
    "                                    EndpointConfigName=endpoint_config_name,\n",
    "                                )\n",
    "\n",
    "print (\"update_endpoint API response\", update_endpoint_api_response)    \n",
    "\n",
    "print(f\"Updating endpoint {endpoint_name}...\")"
   ]
  },
  {
   "cell_type": "raw",
   "id": "40d8a09b-91c2-414e-920e-fcfdcf8f51ec",
   "metadata": {},
   "source": [
    "We can wait for the endpoint update execution to be completed by invoking the wait() function. The deployment can take about 8 minutes to be completed. For the purpose of this workshop, the generic model endpoint has already been initialized with the same model to allow us to proceed with testing the inference without waiting for this endpoint deployment to be completed. If you prefer to wait, please uncomment the following cell."
   ]
  },
  {
   "cell_type": "code",
   "execution_count": 11,
   "id": "102a7c08-c2ab-4842-93f2-48eea578f619",
   "metadata": {
    "tags": []
   },
   "outputs": [],
   "source": [
    "#waiter = client.get_waiter('endpoint_in_service')\n",
    "#waiter.wait(EndpointName=endpoint_name)\n",
    "#print(f\"Endpoint {endpoint_name} is in service.\")"
   ]
  },
  {
   "cell_type": "markdown",
   "id": "c71397f2-8dfb-417b-a093-1206aac9778a",
   "metadata": {
    "tags": []
   },
   "source": [
    "## Onboard Basic Tier Tenants"
   ]
  },
  {
   "cell_type": "markdown",
   "id": "3f9a1881-c92b-40dc-8e9f-fd0a61ec518a",
   "metadata": {},
   "source": [
    "The following Script retrieves the SaaS Control Plane URL and the username and password you require to login."
   ]
  },
  {
   "cell_type": "code",
   "execution_count": null,
   "id": "b8893e13-fce5-421b-950b-0517d739cb41",
   "metadata": {
    "tags": []
   },
   "outputs": [],
   "source": [
    "!chmod +x ../setup/create-admin-user.sh\n",
    "!../setup/create-admin-user.sh"
   ]
  },
  {
   "cell_type": "markdown",
   "id": "7bc2e796-843f-44c0-8f23-b3e0dd139aa2",
   "metadata": {
    "tags": []
   },
   "source": [
    "<div class=\"alert alert-block alert-info\">\n",
    "<font color='black'><b>!!! Follow instructions in the Workshop Tutorial to onboard 2 (two) Basic Tier Tenants</b></font>\n",
    "</div>"
   ]
  },
  {
   "cell_type": "markdown",
   "id": "f1671068-ce2d-42d7-a7f0-2ebc1893c8af",
   "metadata": {
    "tags": []
   },
   "source": [
    "## Lab1 Test Inference"
   ]
  },
  {
   "cell_type": "markdown",
   "id": "ce24ce4e-c624-499f-b7e6-23e948823e11",
   "metadata": {
    "tags": []
   },
   "source": [
    "Execute the cell below to initialize the inference helper functions"
   ]
  },
  {
   "cell_type": "code",
   "execution_count": 15,
   "id": "7a8b4c0c-5b44-4a5d-824b-9eed45c80094",
   "metadata": {
    "tags": []
   },
   "outputs": [],
   "source": [
    "# Copyright Amazon.com, Inc. or its affiliates. All Rights Reserved.\n",
    "# SPDX-License-Identifier: MIT-0\n",
    "def basic_tier_run_inference(username, password, tenant_name, request):\n",
    "    api_url=get_api_url(tenant_name)\n",
    "    jwt = get_jwt(username, password, tenant_name, api_url)\n",
    "    invoke_inference_endpoint(jwt, request, api_url+'basic_inference')\n",
    "    \n",
    "def run_inference(username, password, tenant_name, request):\n",
    "    api_url=get_api_url(tenant_name)\n",
    "    jwt = get_jwt(username, password, tenant_name, api_url)\n",
    "    invoke_inference_endpoint(jwt, request, api_url+'inference')\n",
    "\n",
    "def get_jwt(username, password, tenant_name, api_url):\n",
    "\n",
    "    auth_str = f'{username}:{password}'\n",
    "    byte_str = auth_str.encode('ascii')\n",
    "    auth_b64 = base64.b64encode(byte_str)\n",
    "\n",
    "    headers = {\n",
    "        'Authorization': 'Basic {}'.format(auth_b64.decode('ascii')),\n",
    "        'tenant-name': tenant_name\n",
    "    }\n",
    "\n",
    "    try:\n",
    "        print(\"Getting JWT\")\n",
    "        response = requests.get(api_url + 'jwt', headers=headers)\n",
    "        # print(response.text if response.text else response.reason)\n",
    "        jwt = json.loads(response.text)['jwt']\n",
    "        return jwt\n",
    "    except Exception as e:\n",
    "        print(\"Error getting JWT\", e)\n",
    "        \n",
    "        \n",
    "    \n",
    "def invoke_inference_endpoint(jwt, request, api_url):\n",
    "\n",
    "    headers = {\n",
    "        'Authorization': 'Bearer {}'.format(jwt),\n",
    "        'Content-Type': 'text/csv'\n",
    "    }\n",
    "    \n",
    "    try:\n",
    "        print(f\"Inference request with: {request}\")\n",
    "        response = requests.post(api_url, headers=headers, data=request)\n",
    "        print(response.text if response.text else response.reason)\n",
    "    except Exception as e:\n",
    "        print(\"Error executing inference request\", e)\n",
    "\n",
    "def get_api_url(tenant_name):\n",
    "    dynamodb = boto3.resource('dynamodb')\n",
    "    table_tenant_details = dynamodb.Table('MLaaS-TenantDetails')\n",
    "    \n",
    "    try:\n",
    "        \n",
    "        tenant_details = table_tenant_details.query(\n",
    "            IndexName='tenantName-index',\n",
    "            KeyConditionExpression=Key('tenantName').eq(tenant_name)\n",
    "        )\n",
    "\n",
    "        api_url = tenant_details['Items'][0]['apiGatewayUrl']\n",
    "        print(api_url)\n",
    "        return api_url      \n",
    "    except Exception as error:\n",
    "        print(f'[Error]: {error}')\n",
    "        \n",
    "    "
   ]
  },
  {
   "cell_type": "markdown",
   "id": "a21b9769-ef0d-4b4b-9eee-934883df20ca",
   "metadata": {
    "tags": []
   },
   "source": [
    "\n",
    "First let us send an inference request for our first tenant (basic1)."
   ]
  },
  {
   "cell_type": "code",
   "execution_count": null,
   "id": "7e30edd3-fbe0-4f3c-88a0-b88e51aa91e3",
   "metadata": {
    "tags": []
   },
   "outputs": [],
   "source": [
    "basic_tenant_1_username = \"basic1@example.com\"# Example: basic1@example.com\n",
    "basic_tenant_1_name = \"basic1\" # Example: basic1\n",
    "basic_tenant_1_request = \"84,1,3,98,2,4\" \n",
    "\n",
    "basic_tier_run_inference(username=basic_tenant_1_username,password=\"Mlaa$1234\",tenant_name=basic_tenant_1_name,request=basic_tenant_1_request)"
   ]
  },
  {
   "cell_type": "markdown",
   "id": "2ad509f0-584b-4287-b130-5c7e46627a2f",
   "metadata": {},
   "source": [
    "Next we send an inference request for our second tenant (basic2)."
   ]
  },
  {
   "cell_type": "code",
   "execution_count": null,
   "id": "e6f4ac11-90d1-4eba-9842-eebe2adcbc7e",
   "metadata": {
    "tags": []
   },
   "outputs": [],
   "source": [
    "basic_tenant_2_username = \"basic2@example.com\" # Example: basic2@example.com\n",
    "basic_tenant_2_name = \"basic2\" \n",
    "basic_tenant_2_request = \"1,0,3,105,2,9\"\n",
    "\n",
    "basic_tier_run_inference(username=basic_tenant_2_username,password=\"Mlaa$1234\",tenant_name=basic_tenant_2_name,request=basic_tenant_2_request)"
   ]
  },
  {
   "cell_type": "markdown",
   "id": "c00f0855-a235-4964-a0a3-67802bf9b6a9",
   "metadata": {
    "jp-MarkdownHeadingCollapsed": true,
    "tags": []
   },
   "source": [
    "# Lab 2"
   ]
  },
  {
   "cell_type": "markdown",
   "id": "d76980fb-b011-4dc0-be9d-74cb504d35fa",
   "metadata": {
    "tags": []
   },
   "source": [
    "## Onboard Advanced Tier Tenants"
   ]
  },
  {
   "cell_type": "markdown",
   "id": "13c7d396-b006-44c9-9562-5e5815968064",
   "metadata": {
    "tags": []
   },
   "source": [
    "<div class=\"alert alert-block alert-info\">\n",
    "<font color='black'><b>!!! Follow instructions in the Workshop Studio to onboard 2 (two) Advanced Tier Tenants</b></font>\n",
    "</div>"
   ]
  },
  {
   "cell_type": "markdown",
   "id": "3824482d-42fc-4174-b1be-fb5394b4c059",
   "metadata": {
    "tags": []
   },
   "source": [
    "## Upload Training Data"
   ]
  },
  {
   "cell_type": "markdown",
   "id": "3e5156b2-eeba-4b3b-abbe-c49686ed54b2",
   "metadata": {},
   "source": [
    "Execute the cell below to initialize the file upload helper function"
   ]
  },
  {
   "cell_type": "code",
   "execution_count": 14,
   "id": "2c95a748-7cfa-4cbc-af8a-f5a751f411f3",
   "metadata": {
    "tags": []
   },
   "outputs": [],
   "source": [
    "# Copyright Amazon.com, Inc. or its affiliates. All Rights Reserved.\n",
    "# SPDX-License-Identifier: MIT-0\n",
    "\n",
    "def upload_file(username, password, tenant_name, file, file_type):\n",
    "    api_url=get_api_url(tenant_name)\n",
    "    jwt = get_jwt(username, password, tenant_name, api_url)\n",
    "    file_name =  os.path.basename(file)\n",
    "    \n",
    "    headers = {\n",
    "        'Authorization': 'Bearer {}'.format(jwt),\n",
    "        'Content-Type': 'text/csv',\n",
    "        'file-name': file_name,\n",
    "        'file-type': file_type\n",
    "    }\n",
    "\n",
    "    try:\n",
    "        print(f\"Uploading file: {file}\")\n",
    "        response = requests.put(\n",
    "            api_url + 'upload', headers=headers, data=open(file, 'rb'))\n",
    "        print(response.text if response.text else response.reason)\n",
    "    except Exception as e:\n",
    "        print(\"Error uploading file\", e)"
   ]
  },
  {
   "cell_type": "markdown",
   "id": "89a83b16-ef15-4277-8f98-d6f1bcc0acb3",
   "metadata": {
    "tags": []
   },
   "source": [
    "Run the python function above to upload your advanced tenant training data. This function will handle both, getting a JWT Token and uploading the training data to the correct S3 tenant prefix."
   ]
  },
  {
   "cell_type": "markdown",
   "id": "b81f1a67-900e-4bf0-af0e-fcfab4559762",
   "metadata": {},
   "source": [
    "NOTE: Provide the following data before executing the upload_file python function\n",
    "> First, upload the data for advanced tenant 1"
   ]
  },
  {
   "cell_type": "code",
   "execution_count": 21,
   "id": "84a28171-892d-4ee2-beba-393069d54ac2",
   "metadata": {
    "tags": []
   },
   "outputs": [],
   "source": [
    "advanced_tenant_1_username = \"advanced1@example.com\" #eg. \"advanced6@example.com\" \n",
    "advanced_tenant_1_name = \"advanced1\" \n",
    "advanced_tenant_1_file = \"data/Advanced-Tenant1/advanced1_dataset.csv\" "
   ]
  },
  {
   "cell_type": "code",
   "execution_count": null,
   "id": "80bb331e-687c-4225-8cd6-ec31e0721090",
   "metadata": {
    "tags": []
   },
   "outputs": [],
   "source": [
    "upload_file(username=advanced_tenant_1_username, password=\"Mlaa$1234\",tenant_name=advanced_tenant_1_name,file_type=\"csv\",file=advanced_tenant_1_file)"
   ]
  },
  {
   "cell_type": "markdown",
   "id": "6c04b359-fd24-42d1-b424-275a7e8e8ff6",
   "metadata": {
    "tags": []
   },
   "source": [
    "NOTE: Provide the following data before executing the upload_file python function"
   ]
  },
  {
   "cell_type": "code",
   "execution_count": 25,
   "id": "ec30df26-2771-441d-b7e5-138c00b23474",
   "metadata": {
    "tags": []
   },
   "outputs": [],
   "source": [
    "advanced_tenant_2_username = \"advanced2@example.com\" #e.g., \"advanced2@example.com\" \n",
    "advanced_tenant_2_name = \"advanced2\" \n",
    "advanced_tenant_2_file = \"data/Advanced-Tenant2/advanced2_dataset.csv\" "
   ]
  },
  {
   "cell_type": "code",
   "execution_count": null,
   "id": "ce2bbf2d-1fd0-4cb2-a846-5fdbc3ce022f",
   "metadata": {
    "tags": []
   },
   "outputs": [],
   "source": [
    "upload_file(username=advanced_tenant_2_username, password=\"Mlaa$1234\",tenant_name=advanced_tenant_2_name,file_type=\"csv\",file=advanced_tenant_2_file)"
   ]
  },
  {
   "cell_type": "markdown",
   "id": "26862a0f-2838-4d29-8405-8826425a12f4",
   "metadata": {
    "tags": []
   },
   "source": [
    "<div class=\"alert alert-block alert-info\">\n",
    "<font color='black'><b>!!! Verify that execution of 2 new training pipelines has started. Use SageMaker console to check with execution status. Wait for the execution of the pipelines to complete</b></font>\n",
    "</div>"
   ]
  },
  {
   "cell_type": "markdown",
   "id": "b6fb1364-d690-4ded-a203-a60266e3776b",
   "metadata": {
    "tags": []
   },
   "source": [
    "## Lab2 Test Inference"
   ]
  },
  {
   "cell_type": "code",
   "execution_count": null,
   "id": "b82a4582-6efa-4b31-b646-1e8ce7ede153",
   "metadata": {
    "tags": []
   },
   "outputs": [],
   "source": [
    "advanced_tenant_100_username = \"advanced100@example.com\" \n",
    "advanced_tenant_100_name = \"advanced100\"\n",
    "advanced100_request = \"18,0,3,105,2,9\" \n",
    "run_inference(username=advanced_tenant_100_username,password=\"Mlaa$1234\",tenant_name=advanced_tenant_100_name,request=advanced100_request)"
   ]
  },
  {
   "cell_type": "code",
   "execution_count": null,
   "id": "5494eeba-f2e9-4245-94cd-2b4103ada4f5",
   "metadata": {
    "tags": []
   },
   "outputs": [],
   "source": [
    "advanced_tenant_200_username = \"advanced200@example.com\" \n",
    "advanced_tenant_200_name = \"advanced200\"\n",
    "advanced200_request = \"18,0,3,105,2,9\" \n",
    "run_inference(username=advanced_tenant_200_username,password=\"Mlaa$1234\",tenant_name=advanced_tenant_200_name,request=advanced200_request)"
   ]
  },
  {
   "cell_type": "markdown",
   "id": "68275322-31ea-485c-9d13-e00bb95d5bd1",
   "metadata": {
    "tags": []
   },
   "source": [
    "# Lab 3"
   ]
  },
  {
   "cell_type": "raw",
   "id": "9a52926d-c112-48ad-9e55-ee75090a5c63",
   "metadata": {
    "tags": []
   },
   "source": [
    "## Onboard Premium Tier Tenants"
   ]
  },
  {
   "cell_type": "markdown",
   "id": "3ec7f290-8243-47b2-8f94-d59b48647e5a",
   "metadata": {
    "tags": []
   },
   "source": [
    "<div class=\"alert alert-block alert-info\">\n",
    "<font color='black'><b>!!! Follow instructions in the Workshop Studio to onboard 1 Premium Tier Tenant named Premium1</b></font>\n",
    "</div>"
   ]
  },
  {
   "cell_type": "markdown",
   "id": "82f19688",
   "metadata": {},
   "source": [
    "## Upload Training Data"
   ]
  },
  {
   "cell_type": "raw",
   "id": "2142fff5",
   "metadata": {},
   "source": [
    "premium_tenant_100_username = \"premium100@example.com\"\n",
    "premium_tenant_100_name = \"premium100\" \n",
    "premium_tenant_100_file = \"data/Premium-Tenant100/premium100_dataset.csv\" "
   ]
  },
  {
   "cell_type": "raw",
   "id": "31c2c469",
   "metadata": {},
   "source": [
    "upload_file(username=premium_tenant_100_username, password=\"Mlaa$1234\",tenant_name=premium_tenant_100_name,file_type=\"csv\",file=premium_tenant_100_file)"
   ]
  },
  {
   "cell_type": "markdown",
   "id": "f8f0e89b-075d-4c6d-a031-f75c83a4e243",
   "metadata": {
    "tags": []
   },
   "source": [
    "## Lab3 Test Inference"
   ]
  },
  {
   "cell_type": "code",
   "execution_count": 45,
   "id": "750f793a-ffcc-43f6-be51-aa33eab2d8b1",
   "metadata": {
    "tags": []
   },
   "outputs": [],
   "source": [
    "premium_tenant_100_username = \"premium100@example.com\" \n",
    "premium_tenant_100_name = \"premium100\" \n",
    "premium100_request = \"18,0,3,105,2,9\" \n",
    "run_inference(username=premium_tenant_100_username,password=\"Mlaa$1234\",tenant_name=premium_tenant_100_name,request=premium100_request)"
   ]
  },
  {
   "cell_type": "markdown",
   "id": "e920c2b8",
   "metadata": {
    "tags": []
   },
   "source": [
    "# Lab4"
   ]
  },
  {
   "cell_type": "markdown",
   "id": "af1b6aeb",
   "metadata": {},
   "source": [
    "## Test Inference"
   ]
  },
  {
   "cell_type": "markdown",
   "id": "5ddfc63b",
   "metadata": {},
   "source": [
    "We have hardcoded the tenant **advanced1** tenant id. Now lets run inference request for different tenant **advanced2**. We will be using **advanced2** tenant users username and tenant name as shown below. If you used different tenant name and username please make sure to use the correct tenant name and username. "
   ]
  },
  {
   "cell_type": "code",
   "execution_count": null,
   "id": "7e89fd92",
   "metadata": {
    "tags": []
   },
   "outputs": [],
   "source": [
    "advanced_tenant_2_username=\"test+advanced2@example.com\"\n",
    "advanced_tenant_2_name = \"advanced2\"\n",
    "advanced_tenant_2_request = \"18,0,3,105,2,9\" \n",
    "run_inference(username=advanced_tenant_2_username,password=\"Mlaa$1234\",tenant_name=advanced_tenant_2_name,request=advanced_tenant_2_request)"
   ]
  }
 ],
 "metadata": {
  "availableInstances": [
   {
    "_defaultOrder": 0,
    "_isFastLaunch": true,
    "category": "General purpose",
    "gpuNum": 0,
    "hideHardwareSpecs": false,
    "memoryGiB": 4,
    "name": "ml.t3.medium",
    "vcpuNum": 2
   },
   {
    "_defaultOrder": 1,
    "_isFastLaunch": false,
    "category": "General purpose",
    "gpuNum": 0,
    "hideHardwareSpecs": false,
    "memoryGiB": 8,
    "name": "ml.t3.large",
    "vcpuNum": 2
   },
   {
    "_defaultOrder": 2,
    "_isFastLaunch": false,
    "category": "General purpose",
    "gpuNum": 0,
    "hideHardwareSpecs": false,
    "memoryGiB": 16,
    "name": "ml.t3.xlarge",
    "vcpuNum": 4
   },
   {
    "_defaultOrder": 3,
    "_isFastLaunch": false,
    "category": "General purpose",
    "gpuNum": 0,
    "hideHardwareSpecs": false,
    "memoryGiB": 32,
    "name": "ml.t3.2xlarge",
    "vcpuNum": 8
   },
   {
    "_defaultOrder": 4,
    "_isFastLaunch": true,
    "category": "General purpose",
    "gpuNum": 0,
    "hideHardwareSpecs": false,
    "memoryGiB": 8,
    "name": "ml.m5.large",
    "vcpuNum": 2
   },
   {
    "_defaultOrder": 5,
    "_isFastLaunch": false,
    "category": "General purpose",
    "gpuNum": 0,
    "hideHardwareSpecs": false,
    "memoryGiB": 16,
    "name": "ml.m5.xlarge",
    "vcpuNum": 4
   },
   {
    "_defaultOrder": 6,
    "_isFastLaunch": false,
    "category": "General purpose",
    "gpuNum": 0,
    "hideHardwareSpecs": false,
    "memoryGiB": 32,
    "name": "ml.m5.2xlarge",
    "vcpuNum": 8
   },
   {
    "_defaultOrder": 7,
    "_isFastLaunch": false,
    "category": "General purpose",
    "gpuNum": 0,
    "hideHardwareSpecs": false,
    "memoryGiB": 64,
    "name": "ml.m5.4xlarge",
    "vcpuNum": 16
   },
   {
    "_defaultOrder": 8,
    "_isFastLaunch": false,
    "category": "General purpose",
    "gpuNum": 0,
    "hideHardwareSpecs": false,
    "memoryGiB": 128,
    "name": "ml.m5.8xlarge",
    "vcpuNum": 32
   },
   {
    "_defaultOrder": 9,
    "_isFastLaunch": false,
    "category": "General purpose",
    "gpuNum": 0,
    "hideHardwareSpecs": false,
    "memoryGiB": 192,
    "name": "ml.m5.12xlarge",
    "vcpuNum": 48
   },
   {
    "_defaultOrder": 10,
    "_isFastLaunch": false,
    "category": "General purpose",
    "gpuNum": 0,
    "hideHardwareSpecs": false,
    "memoryGiB": 256,
    "name": "ml.m5.16xlarge",
    "vcpuNum": 64
   },
   {
    "_defaultOrder": 11,
    "_isFastLaunch": false,
    "category": "General purpose",
    "gpuNum": 0,
    "hideHardwareSpecs": false,
    "memoryGiB": 384,
    "name": "ml.m5.24xlarge",
    "vcpuNum": 96
   },
   {
    "_defaultOrder": 12,
    "_isFastLaunch": false,
    "category": "General purpose",
    "gpuNum": 0,
    "hideHardwareSpecs": false,
    "memoryGiB": 8,
    "name": "ml.m5d.large",
    "vcpuNum": 2
   },
   {
    "_defaultOrder": 13,
    "_isFastLaunch": false,
    "category": "General purpose",
    "gpuNum": 0,
    "hideHardwareSpecs": false,
    "memoryGiB": 16,
    "name": "ml.m5d.xlarge",
    "vcpuNum": 4
   },
   {
    "_defaultOrder": 14,
    "_isFastLaunch": false,
    "category": "General purpose",
    "gpuNum": 0,
    "hideHardwareSpecs": false,
    "memoryGiB": 32,
    "name": "ml.m5d.2xlarge",
    "vcpuNum": 8
   },
   {
    "_defaultOrder": 15,
    "_isFastLaunch": false,
    "category": "General purpose",
    "gpuNum": 0,
    "hideHardwareSpecs": false,
    "memoryGiB": 64,
    "name": "ml.m5d.4xlarge",
    "vcpuNum": 16
   },
   {
    "_defaultOrder": 16,
    "_isFastLaunch": false,
    "category": "General purpose",
    "gpuNum": 0,
    "hideHardwareSpecs": false,
    "memoryGiB": 128,
    "name": "ml.m5d.8xlarge",
    "vcpuNum": 32
   },
   {
    "_defaultOrder": 17,
    "_isFastLaunch": false,
    "category": "General purpose",
    "gpuNum": 0,
    "hideHardwareSpecs": false,
    "memoryGiB": 192,
    "name": "ml.m5d.12xlarge",
    "vcpuNum": 48
   },
   {
    "_defaultOrder": 18,
    "_isFastLaunch": false,
    "category": "General purpose",
    "gpuNum": 0,
    "hideHardwareSpecs": false,
    "memoryGiB": 256,
    "name": "ml.m5d.16xlarge",
    "vcpuNum": 64
   },
   {
    "_defaultOrder": 19,
    "_isFastLaunch": false,
    "category": "General purpose",
    "gpuNum": 0,
    "hideHardwareSpecs": false,
    "memoryGiB": 384,
    "name": "ml.m5d.24xlarge",
    "vcpuNum": 96
   },
   {
    "_defaultOrder": 20,
    "_isFastLaunch": false,
    "category": "General purpose",
    "gpuNum": 0,
    "hideHardwareSpecs": true,
    "memoryGiB": 0,
    "name": "ml.geospatial.interactive",
    "supportedImageNames": [
     "sagemaker-geospatial-v1-0"
    ],
    "vcpuNum": 0
   },
   {
    "_defaultOrder": 21,
    "_isFastLaunch": true,
    "category": "Compute optimized",
    "gpuNum": 0,
    "hideHardwareSpecs": false,
    "memoryGiB": 4,
    "name": "ml.c5.large",
    "vcpuNum": 2
   },
   {
    "_defaultOrder": 22,
    "_isFastLaunch": false,
    "category": "Compute optimized",
    "gpuNum": 0,
    "hideHardwareSpecs": false,
    "memoryGiB": 8,
    "name": "ml.c5.xlarge",
    "vcpuNum": 4
   },
   {
    "_defaultOrder": 23,
    "_isFastLaunch": false,
    "category": "Compute optimized",
    "gpuNum": 0,
    "hideHardwareSpecs": false,
    "memoryGiB": 16,
    "name": "ml.c5.2xlarge",
    "vcpuNum": 8
   },
   {
    "_defaultOrder": 24,
    "_isFastLaunch": false,
    "category": "Compute optimized",
    "gpuNum": 0,
    "hideHardwareSpecs": false,
    "memoryGiB": 32,
    "name": "ml.c5.4xlarge",
    "vcpuNum": 16
   },
   {
    "_defaultOrder": 25,
    "_isFastLaunch": false,
    "category": "Compute optimized",
    "gpuNum": 0,
    "hideHardwareSpecs": false,
    "memoryGiB": 72,
    "name": "ml.c5.9xlarge",
    "vcpuNum": 36
   },
   {
    "_defaultOrder": 26,
    "_isFastLaunch": false,
    "category": "Compute optimized",
    "gpuNum": 0,
    "hideHardwareSpecs": false,
    "memoryGiB": 96,
    "name": "ml.c5.12xlarge",
    "vcpuNum": 48
   },
   {
    "_defaultOrder": 27,
    "_isFastLaunch": false,
    "category": "Compute optimized",
    "gpuNum": 0,
    "hideHardwareSpecs": false,
    "memoryGiB": 144,
    "name": "ml.c5.18xlarge",
    "vcpuNum": 72
   },
   {
    "_defaultOrder": 28,
    "_isFastLaunch": false,
    "category": "Compute optimized",
    "gpuNum": 0,
    "hideHardwareSpecs": false,
    "memoryGiB": 192,
    "name": "ml.c5.24xlarge",
    "vcpuNum": 96
   },
   {
    "_defaultOrder": 29,
    "_isFastLaunch": true,
    "category": "Accelerated computing",
    "gpuNum": 1,
    "hideHardwareSpecs": false,
    "memoryGiB": 16,
    "name": "ml.g4dn.xlarge",
    "vcpuNum": 4
   },
   {
    "_defaultOrder": 30,
    "_isFastLaunch": false,
    "category": "Accelerated computing",
    "gpuNum": 1,
    "hideHardwareSpecs": false,
    "memoryGiB": 32,
    "name": "ml.g4dn.2xlarge",
    "vcpuNum": 8
   },
   {
    "_defaultOrder": 31,
    "_isFastLaunch": false,
    "category": "Accelerated computing",
    "gpuNum": 1,
    "hideHardwareSpecs": false,
    "memoryGiB": 64,
    "name": "ml.g4dn.4xlarge",
    "vcpuNum": 16
   },
   {
    "_defaultOrder": 32,
    "_isFastLaunch": false,
    "category": "Accelerated computing",
    "gpuNum": 1,
    "hideHardwareSpecs": false,
    "memoryGiB": 128,
    "name": "ml.g4dn.8xlarge",
    "vcpuNum": 32
   },
   {
    "_defaultOrder": 33,
    "_isFastLaunch": false,
    "category": "Accelerated computing",
    "gpuNum": 4,
    "hideHardwareSpecs": false,
    "memoryGiB": 192,
    "name": "ml.g4dn.12xlarge",
    "vcpuNum": 48
   },
   {
    "_defaultOrder": 34,
    "_isFastLaunch": false,
    "category": "Accelerated computing",
    "gpuNum": 1,
    "hideHardwareSpecs": false,
    "memoryGiB": 256,
    "name": "ml.g4dn.16xlarge",
    "vcpuNum": 64
   },
   {
    "_defaultOrder": 35,
    "_isFastLaunch": false,
    "category": "Accelerated computing",
    "gpuNum": 1,
    "hideHardwareSpecs": false,
    "memoryGiB": 61,
    "name": "ml.p3.2xlarge",
    "vcpuNum": 8
   },
   {
    "_defaultOrder": 36,
    "_isFastLaunch": false,
    "category": "Accelerated computing",
    "gpuNum": 4,
    "hideHardwareSpecs": false,
    "memoryGiB": 244,
    "name": "ml.p3.8xlarge",
    "vcpuNum": 32
   },
   {
    "_defaultOrder": 37,
    "_isFastLaunch": false,
    "category": "Accelerated computing",
    "gpuNum": 8,
    "hideHardwareSpecs": false,
    "memoryGiB": 488,
    "name": "ml.p3.16xlarge",
    "vcpuNum": 64
   },
   {
    "_defaultOrder": 38,
    "_isFastLaunch": false,
    "category": "Accelerated computing",
    "gpuNum": 8,
    "hideHardwareSpecs": false,
    "memoryGiB": 768,
    "name": "ml.p3dn.24xlarge",
    "vcpuNum": 96
   },
   {
    "_defaultOrder": 39,
    "_isFastLaunch": false,
    "category": "Memory Optimized",
    "gpuNum": 0,
    "hideHardwareSpecs": false,
    "memoryGiB": 16,
    "name": "ml.r5.large",
    "vcpuNum": 2
   },
   {
    "_defaultOrder": 40,
    "_isFastLaunch": false,
    "category": "Memory Optimized",
    "gpuNum": 0,
    "hideHardwareSpecs": false,
    "memoryGiB": 32,
    "name": "ml.r5.xlarge",
    "vcpuNum": 4
   },
   {
    "_defaultOrder": 41,
    "_isFastLaunch": false,
    "category": "Memory Optimized",
    "gpuNum": 0,
    "hideHardwareSpecs": false,
    "memoryGiB": 64,
    "name": "ml.r5.2xlarge",
    "vcpuNum": 8
   },
   {
    "_defaultOrder": 42,
    "_isFastLaunch": false,
    "category": "Memory Optimized",
    "gpuNum": 0,
    "hideHardwareSpecs": false,
    "memoryGiB": 128,
    "name": "ml.r5.4xlarge",
    "vcpuNum": 16
   },
   {
    "_defaultOrder": 43,
    "_isFastLaunch": false,
    "category": "Memory Optimized",
    "gpuNum": 0,
    "hideHardwareSpecs": false,
    "memoryGiB": 256,
    "name": "ml.r5.8xlarge",
    "vcpuNum": 32
   },
   {
    "_defaultOrder": 44,
    "_isFastLaunch": false,
    "category": "Memory Optimized",
    "gpuNum": 0,
    "hideHardwareSpecs": false,
    "memoryGiB": 384,
    "name": "ml.r5.12xlarge",
    "vcpuNum": 48
   },
   {
    "_defaultOrder": 45,
    "_isFastLaunch": false,
    "category": "Memory Optimized",
    "gpuNum": 0,
    "hideHardwareSpecs": false,
    "memoryGiB": 512,
    "name": "ml.r5.16xlarge",
    "vcpuNum": 64
   },
   {
    "_defaultOrder": 46,
    "_isFastLaunch": false,
    "category": "Memory Optimized",
    "gpuNum": 0,
    "hideHardwareSpecs": false,
    "memoryGiB": 768,
    "name": "ml.r5.24xlarge",
    "vcpuNum": 96
   },
   {
    "_defaultOrder": 47,
    "_isFastLaunch": false,
    "category": "Accelerated computing",
    "gpuNum": 1,
    "hideHardwareSpecs": false,
    "memoryGiB": 16,
    "name": "ml.g5.xlarge",
    "vcpuNum": 4
   },
   {
    "_defaultOrder": 48,
    "_isFastLaunch": false,
    "category": "Accelerated computing",
    "gpuNum": 1,
    "hideHardwareSpecs": false,
    "memoryGiB": 32,
    "name": "ml.g5.2xlarge",
    "vcpuNum": 8
   },
   {
    "_defaultOrder": 49,
    "_isFastLaunch": false,
    "category": "Accelerated computing",
    "gpuNum": 1,
    "hideHardwareSpecs": false,
    "memoryGiB": 64,
    "name": "ml.g5.4xlarge",
    "vcpuNum": 16
   },
   {
    "_defaultOrder": 50,
    "_isFastLaunch": false,
    "category": "Accelerated computing",
    "gpuNum": 1,
    "hideHardwareSpecs": false,
    "memoryGiB": 128,
    "name": "ml.g5.8xlarge",
    "vcpuNum": 32
   },
   {
    "_defaultOrder": 51,
    "_isFastLaunch": false,
    "category": "Accelerated computing",
    "gpuNum": 1,
    "hideHardwareSpecs": false,
    "memoryGiB": 256,
    "name": "ml.g5.16xlarge",
    "vcpuNum": 64
   },
   {
    "_defaultOrder": 52,
    "_isFastLaunch": false,
    "category": "Accelerated computing",
    "gpuNum": 4,
    "hideHardwareSpecs": false,
    "memoryGiB": 192,
    "name": "ml.g5.12xlarge",
    "vcpuNum": 48
   },
   {
    "_defaultOrder": 53,
    "_isFastLaunch": false,
    "category": "Accelerated computing",
    "gpuNum": 4,
    "hideHardwareSpecs": false,
    "memoryGiB": 384,
    "name": "ml.g5.24xlarge",
    "vcpuNum": 96
   },
   {
    "_defaultOrder": 54,
    "_isFastLaunch": false,
    "category": "Accelerated computing",
    "gpuNum": 8,
    "hideHardwareSpecs": false,
    "memoryGiB": 768,
    "name": "ml.g5.48xlarge",
    "vcpuNum": 192
   },
   {
    "_defaultOrder": 55,
    "_isFastLaunch": false,
    "category": "Accelerated computing",
    "gpuNum": 8,
    "hideHardwareSpecs": false,
    "memoryGiB": 1152,
    "name": "ml.p4d.24xlarge",
    "vcpuNum": 96
   },
   {
    "_defaultOrder": 56,
    "_isFastLaunch": false,
    "category": "Accelerated computing",
    "gpuNum": 8,
    "hideHardwareSpecs": false,
    "memoryGiB": 1152,
    "name": "ml.p4de.24xlarge",
    "vcpuNum": 96
   }
  ],
  "instance_type": "ml.t3.medium",
  "kernelspec": {
   "display_name": "Python 3 (Data Science 3.0)",
   "language": "python",
   "name": "python3__SAGEMAKER_INTERNAL__arn:aws:sagemaker:us-west-2:236514542706:image/sagemaker-data-science-310-v1"
  },
  "language_info": {
   "codemirror_mode": {
    "name": "ipython",
    "version": 3
   },
   "file_extension": ".py",
   "mimetype": "text/x-python",
   "name": "python",
   "nbconvert_exporter": "python",
   "pygments_lexer": "ipython3",
   "version": "3.10.6"
  }
 },
 "nbformat": 4,
 "nbformat_minor": 5
}
