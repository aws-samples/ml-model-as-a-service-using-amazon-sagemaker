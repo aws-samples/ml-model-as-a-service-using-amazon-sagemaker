{
 "cells": [
  {
   "cell_type": "markdown",
   "id": "3eefa2b8-d9d1-47bf-ad2b-51e2273ec9fc",
   "metadata": {
    "tags": []
   },
   "source": [
    "# Orchestrating Jobs, Model Registration, and Continuous Deployment with Amazon SageMaker\n",
    "\n",
    "Amazon SageMaker offers Machine Learning application developers and Machine Learning operations engineers the ability to orchestrate SageMaker jobs and author reproducible Machine Learning pipelines, deploy custom-build models for inference in real-time with low latency or offline inferences with Batch Transform, and track lineage of artifacts. You can institute sound operational practices in deploying and monitoring production workflows, deployment of model artifacts, and track artifact lineage through a simple interface, adhering to safety and best-practice paradigmsfor Machine Learning application development."
   ]
  },
  {
   "cell_type": "markdown",
   "id": "7e1e584e-9732-411a-939a-38c8564f5a4e",
   "metadata": {
    "tags": []
   },
   "source": [
    "## Layout of the SageMaker ModelBuild Project Template\n",
    "\n",
    "The template provides a starting point for bringing your SageMaker Pipeline development to production.\n",
    "\n",
    "```\n",
    "|-- codebuild-buildspec.yml\n",
    "|-- CONTRIBUTING.md\n",
    "|-- pipelines\n",
    "|   |-- abalone\n",
    "|   |   |-- evaluate.py\n",
    "|   |   |-- __init__.py\n",
    "|   |   |-- pipeline.py\n",
    "|   |   `-- preprocess.py\n",
    "|   |-- get_pipeline_definition.py\n",
    "|   |-- __init__.py\n",
    "|   |-- run_pipeline.py\n",
    "|   |-- _utils.py\n",
    "|   `-- __version__.py\n",
    "|-- README.md\n",
    "|-- sagemaker-pipelines-project.ipynb\n",
    "|-- setup.cfg\n",
    "|-- setup.py\n",
    "|-- tests\n",
    "|   `-- test_pipelines.py\n",
    "`-- tox.ini\n",
    "```"
   ]
  },
  {
   "cell_type": "markdown",
   "id": "e7469f38-b0e4-4762-88e4-6c594af851bb",
   "metadata": {},
   "source": [
    "### A SageMaker Pipeline\n",
    "\n",
    "The pipeline that we create follows a typical Machine Learning Application pattern of pre-processing, training, evaluation, and conditional model registration and publication, if the quality of the model is sufficient.\n",
    "\n",
    "### Getting some constants\n",
    "\n",
    "We get some constants from the local execution environment."
   ]
  },
  {
   "cell_type": "code",
   "execution_count": 74,
   "id": "89228faa-c30c-4c71-b655-a4f8bc9092c4",
   "metadata": {
    "tags": []
   },
   "outputs": [],
   "source": [
    "import boto3\n",
    "import sagemaker\n",
    "\n",
    "region = boto3.Session().region_name\n",
    "account_number = boto3.client('sts').get_caller_identity().get('Account')\n",
    "role = sagemaker.get_execution_role()\n",
    "default_bucket = sagemaker.session.Session().default_bucket()\n",
    "account_number = boto3.client('sts').get_caller_identity().get('Account')\n",
    "client = boto3.client('sagemaker')"
   ]
  },
  {
   "cell_type": "code",
   "execution_count": 75,
   "id": "3419bf30-8257-4246-8252-ab8a80a8f995",
   "metadata": {
    "tags": []
   },
   "outputs": [],
   "source": [
    "model_package_group_name = f\"CustomerChurnGenericModel\"\n",
    "pipeline_name = f\"CustomerChurnPipeline\"\n",
    "generic_model_data_bucket_name = f\"sagemaker-mlaas-pooled-{region}-{account_number}\""
   ]
  },
  {
   "cell_type": "markdown",
   "id": "6d663d48-2738-4552-9888-3c91a8b4915e",
   "metadata": {
    "tags": []
   },
   "source": [
    "## Upload Sample Training Data"
   ]
  },
  {
   "cell_type": "code",
   "execution_count": 34,
   "id": "448752a6-dba8-45da-bd00-010d5576dc48",
   "metadata": {
    "tags": []
   },
   "outputs": [
    {
     "data": {
      "text/plain": [
       "'s3://sagemaker-mlaas-pooled-us-east-1-673514718350/sample-data'"
      ]
     },
     "execution_count": 34,
     "metadata": {},
     "output_type": "execute_result"
    }
   ],
   "source": [
    "s3_bucket_prefix = \"sample-data\"\n",
    "local_path = \"data/AnyCompany\"\n",
    "sagemaker.Session().upload_data(path=local_path,bucket=generic_model_data_bucket_name,key_prefix=s3_bucket_prefix)"
   ]
  },
  {
   "cell_type": "markdown",
   "id": "97355762-d626-4ec4-95a7-451430ebb4ab",
   "metadata": {
    "tags": []
   },
   "source": [
    "### Get the pipeline instance\n",
    "Here we get the pipeline instance from your pipeline module so that we can work with it."
   ]
  },
  {
   "cell_type": "code",
   "execution_count": 4,
   "id": "f2d0ee29-78c0-47d0-8fc0-e2dfa9d658c6",
   "metadata": {
    "tags": []
   },
   "outputs": [
    {
     "name": "stderr",
     "output_type": "stream",
     "text": [
      "The input argument instance_type of function (sagemaker.image_uris.retrieve) is a pipeline variable (<class 'sagemaker.workflow.parameters.ParameterString'>), which is not allowed. The default_value of this Parameter object will be used to override it. Please make sure the default_value is valid.\n",
      "/opt/conda/lib/python3.7/site-packages/sagemaker/workflow/pipeline_context.py:300: UserWarning: Running within a PipelineSession, there will be No Wait, No Logs, and No Job being started.\n",
      "  UserWarning,\n"
     ]
    }
   ],
   "source": [
    "from pipeline import get_pipeline\n",
    "\n",
    "pipeline = get_pipeline(\n",
    "    region=region,\n",
    "    role=role,\n",
    "    default_bucket=default_bucket,\n",
    "    model_package_group_name=model_package_group_name,\n",
    "    pipeline_name=pipeline_name,\n",
    ")"
   ]
  },
  {
   "cell_type": "markdown",
   "id": "bc1347fa-f6df-4812-a3fb-4f327631d4c6",
   "metadata": {},
   "source": [
    "### Submit the pipeline to SageMaker and start execution\n",
    "Let's submit our pipeline definition to the workflow service. The role passed in will be used by the workflow service to create all the jobs defined in the steps."
   ]
  },
  {
   "cell_type": "code",
   "execution_count": 84,
   "id": "371669d0-e1c8-491d-8292-d87b3eb9250c",
   "metadata": {
    "tags": []
   },
   "outputs": [
    {
     "name": "stderr",
     "output_type": "stream",
     "text": [
      "WARNING:sagemaker.workflow.utilities:Popping out 'TrainingJobName' from the pipeline definition by default since it will be overridden at pipeline execution time. Please utilize the PipelineDefinitionConfig to persist this field in the pipeline definition if desired.\n",
      "WARNING:sagemaker.estimator:No finished training job found associated with this estimator. Please make sure this estimator is only used for building workflow config\n",
      "WARNING:sagemaker.workflow._utils:Popping out 'CertifyForMarketplace' from the pipeline definition since it will be overridden in pipeline execution time.\n",
      "WARNING:sagemaker.workflow.utilities:Popping out 'ModelPackageName' from the pipeline definition by default since it will be overridden at pipeline execution time. Please utilize the PipelineDefinitionConfig to persist this field in the pipeline definition if desired.\n",
      "WARNING:sagemaker.workflow.utilities:Popping out 'ProcessingJobName' from the pipeline definition by default since it will be overridden at pipeline execution time. Please utilize the PipelineDefinitionConfig to persist this field in the pipeline definition if desired.\n",
      "WARNING:sagemaker.workflow.utilities:Popping out 'TrainingJobName' from the pipeline definition by default since it will be overridden at pipeline execution time. Please utilize the PipelineDefinitionConfig to persist this field in the pipeline definition if desired.\n",
      "WARNING:sagemaker.estimator:No finished training job found associated with this estimator. Please make sure this estimator is only used for building workflow config\n",
      "WARNING:sagemaker.workflow._utils:Popping out 'CertifyForMarketplace' from the pipeline definition since it will be overridden in pipeline execution time.\n",
      "WARNING:sagemaker.workflow.utilities:Popping out 'ModelPackageName' from the pipeline definition by default since it will be overridden at pipeline execution time. Please utilize the PipelineDefinitionConfig to persist this field in the pipeline definition if desired.\n",
      "WARNING:sagemaker.workflow.utilities:Popping out 'ProcessingJobName' from the pipeline definition by default since it will be overridden at pipeline execution time. Please utilize the PipelineDefinitionConfig to persist this field in the pipeline definition if desired.\n"
     ]
    },
    {
     "data": {
      "text/plain": [
       "{'PipelineArn': 'arn:aws:sagemaker:us-east-1:673514718350:pipeline/CustomerChurnPipeline',\n",
       " 'ResponseMetadata': {'RequestId': '87cc629a-7e17-472d-8ebc-797bcdbc901f',\n",
       "  'HTTPStatusCode': 200,\n",
       "  'HTTPHeaders': {'x-amzn-requestid': '87cc629a-7e17-472d-8ebc-797bcdbc901f',\n",
       "   'content-type': 'application/x-amz-json-1.1',\n",
       "   'content-length': '89',\n",
       "   'date': 'Fri, 06 Oct 2023 17:21:16 GMT'},\n",
       "  'RetryAttempts': 0}}"
      ]
     },
     "execution_count": 84,
     "metadata": {},
     "output_type": "execute_result"
    }
   ],
   "source": [
    "pipeline.upsert(role_arn=role)"
   ]
  },
  {
   "cell_type": "markdown",
   "id": "a3537204-0822-4f82-b45e-6f7e58fd1393",
   "metadata": {},
   "source": [
    "We'll start the pipeline, accepting all the default parameters.\n",
    "\n",
    "Values can also be passed into these pipeline parameters on starting of the pipeline, and will be covered later. "
   ]
  },
  {
   "cell_type": "code",
   "execution_count": 41,
   "id": "54291c9e-0c2b-4ef5-940d-043a6cee8ab2",
   "metadata": {
    "tags": []
   },
   "outputs": [],
   "source": [
    "execution = pipeline.start(\n",
    "    parameters=dict(\n",
    "        ProcessingInstanceType=\"ml.t3.large\",\n",
    "        ProcessingInstanceCount=1,\n",
    "        TrainDataPath = f\"s3://{generic_model_data_bucket_name}/sample-data/train/train.csv\",\n",
    "        TestDataPath = f\"s3://{generic_model_data_bucket_name}/sample-data/test/test.csv\",\n",
    "        ValidationDataPath = f\"s3://{generic_model_data_bucket_name}/sample-data/validation/validation.csv\",\n",
    "        ModelPath = f\"s3://{generic_model_data_bucket_name}/model_artifacts\",\n",
    "        BucketName = f\"{generic_model_data_bucket_name}\",\n",
    "        ObjectKey = f\"model_artifacts/basic_tier/output\",\n",
    "        ModelPackageGroupName = f\"{model_package_group_name}\",\n",
    "        ModelVersion = \"0\"\n",
    "    )\n",
    ")\n"
   ]
  },
  {
   "cell_type": "markdown",
   "id": "6bb65de2-e037-4318-a1b7-486fdac2e610",
   "metadata": {},
   "source": [
    "### Pipeline Operations: examining and waiting for pipeline execution\n",
    "\n",
    "Now we describe execution instance and list the steps in the execution to find out more about the execution."
   ]
  },
  {
   "cell_type": "code",
   "execution_count": 42,
   "id": "352bb3e8-b9a5-4751-bc01-59706ec1e196",
   "metadata": {
    "tags": []
   },
   "outputs": [
    {
     "data": {
      "text/plain": [
       "{'PipelineArn': 'arn:aws:sagemaker:us-east-1:673514718350:pipeline/CustomerChurnPipeline',\n",
       " 'PipelineExecutionArn': 'arn:aws:sagemaker:us-east-1:673514718350:pipeline/CustomerChurnPipeline/execution/m383pjr8d9w5',\n",
       " 'PipelineExecutionDisplayName': 'execution-1696550800740',\n",
       " 'PipelineExecutionStatus': 'Executing',\n",
       " 'PipelineExperimentConfig': {'ExperimentName': 'customerchurnpipeline',\n",
       "  'TrialName': 'm383pjr8d9w5'},\n",
       " 'CreationTime': datetime.datetime(2023, 10, 6, 0, 6, 40, 559000, tzinfo=tzlocal()),\n",
       " 'LastModifiedTime': datetime.datetime(2023, 10, 6, 0, 6, 40, 559000, tzinfo=tzlocal()),\n",
       " 'CreatedBy': {'UserProfileArn': 'arn:aws:sagemaker:us-east-1:673514718350:user-profile/d-rlxpfsgispoj/mlaas-provider-user',\n",
       "  'UserProfileName': 'mlaas-provider-user',\n",
       "  'DomainId': 'd-rlxpfsgispoj'},\n",
       " 'LastModifiedBy': {'UserProfileArn': 'arn:aws:sagemaker:us-east-1:673514718350:user-profile/d-rlxpfsgispoj/mlaas-provider-user',\n",
       "  'UserProfileName': 'mlaas-provider-user',\n",
       "  'DomainId': 'd-rlxpfsgispoj'},\n",
       " 'ResponseMetadata': {'RequestId': 'a71c8d37-ef0a-4a95-a2f8-cf576c0bf074',\n",
       "  'HTTPStatusCode': 200,\n",
       "  'HTTPHeaders': {'x-amzn-requestid': 'a71c8d37-ef0a-4a95-a2f8-cf576c0bf074',\n",
       "   'content-type': 'application/x-amz-json-1.1',\n",
       "   'content-length': '854',\n",
       "   'date': 'Fri, 06 Oct 2023 00:06:43 GMT'},\n",
       "  'RetryAttempts': 0}}"
      ]
     },
     "execution_count": 42,
     "metadata": {},
     "output_type": "execute_result"
    }
   ],
   "source": [
    "execution.describe()"
   ]
  },
  {
   "cell_type": "markdown",
   "id": "94a0aed1-4854-4dc9-8458-4c2c58106fc4",
   "metadata": {},
   "source": [
    "We can wait for the execution by invoking `wait()` on the execution:"
   ]
  },
  {
   "cell_type": "code",
   "execution_count": 44,
   "id": "bd5ecdcb-0261-4cb9-b70b-13fdfcacdbd2",
   "metadata": {
    "tags": []
   },
   "outputs": [],
   "source": [
    "execution.wait()"
   ]
  },
  {
   "cell_type": "markdown",
   "id": "37c2f6ad-219d-45bf-b14d-bd2dbb293423",
   "metadata": {},
   "source": [
    "We can list the execution steps to check out the status and artifacts:"
   ]
  },
  {
   "cell_type": "markdown",
   "id": "f99894ff-32a0-4aae-bd49-5605ac606680",
   "metadata": {},
   "source": [
    "## Create Basic Tier SageMaker Endpoint"
   ]
  },
  {
   "cell_type": "markdown",
   "id": "cc3df3c9-509e-4b56-9a64-f521b7ad3e9f",
   "metadata": {},
   "source": [
    "We will deploy the model to a SageMaker dedicated endpoint.\n",
    "QUESTION: We are preprovisioning the Basic Tier SageMake Endpoint. I guess we need to remove this below block."
   ]
  },
  {
   "cell_type": "code",
   "execution_count": null,
   "id": "b938959e-b9ff-4718-ab10-bf3c574f3f2a",
   "metadata": {},
   "outputs": [
    {
     "name": "stdout",
     "output_type": "stream",
     "text": [
      "create_model API response {'ModelArn': 'arn:aws:sagemaker:us-east-1:854977427211:model/genericmodel', 'ResponseMetadata': {'RequestId': '6b3d8a69-f555-4396-b727-3d23c2f79179', 'HTTPStatusCode': 200, 'HTTPHeaders': {'x-amzn-requestid': '6b3d8a69-f555-4396-b727-3d23c2f79179', 'content-type': 'application/x-amz-json-1.1', 'content-length': '74', 'date': 'Fri, 29 Sep 2023 01:53:33 GMT'}, 'RetryAttempts': 0}}\n",
      "create_endpoint_config API response {'EndpointConfigArn': 'arn:aws:sagemaker:us-east-1:854977427211:endpoint-config/endpointconfig-genericmodel', 'ResponseMetadata': {'RequestId': '98fcbb24-2706-48f7-b680-a0ef2a40d284', 'HTTPStatusCode': 200, 'HTTPHeaders': {'x-amzn-requestid': '98fcbb24-2706-48f7-b680-a0ef2a40d284', 'content-type': 'application/x-amz-json-1.1', 'content-length': '108', 'date': 'Fri, 29 Sep 2023 01:53:33 GMT'}, 'RetryAttempts': 0}}\n",
      "create_endpoint API response {'EndpointArn': 'arn:aws:sagemaker:us-east-1:854977427211:endpoint/endpoint-genericmodel', 'ResponseMetadata': {'RequestId': 'cc174f4f-27c0-45ef-bf59-531078d0402a', 'HTTPStatusCode': 200, 'HTTPHeaders': {'x-amzn-requestid': 'cc174f4f-27c0-45ef-bf59-531078d0402a', 'content-type': 'application/x-amz-json-1.1', 'content-length': '89', 'date': 'Fri, 29 Sep 2023 01:53:34 GMT'}, 'RetryAttempts': 0}}\n",
      "Creating endpoint Endpoint-GenericModel...\n"
     ]
    }
   ],
   "source": [
    "model_name='GenericModel'\n",
    "endpoint_config_name = f\"EndpointConfig-{model_name}\"\n",
    "endpoint_name = f\"Endpoint-{model_name}\"\n",
    "shared_inference_api_url = \"https://lmla2luuak.execute-api.us-east-1.amazonaws.com/\" # Example: https://3289dfakjkak.execute-api.us-east-1.amazonaws.com/\n",
    "\n",
    "\n",
    "# get image URI\n",
    "image_uri = sagemaker.image_uris.retrieve(\n",
    "        framework=\"xgboost\",\n",
    "        region=region,\n",
    "        version=\"1.0-1\",\n",
    "        py_version=\"py3\",\n",
    "        instance_type='ml.t2.medium',\n",
    "    )\n",
    "\n",
    "# create sagemaker model\n",
    "create_model_api_response = client.create_model(\n",
    "                                    ModelName=model_name,\n",
    "                                    PrimaryContainer={\n",
    "                                        'Image': image_uri,\n",
    "                                        'ModelDataUrl': f\"s3://{generic_model_data_bucket_name}/model_artifacts/basic_tier/output/model.tar.gz\",\n",
    "                                        'Environment': {}\n",
    "                                    },\n",
    "                                    ExecutionRoleArn=role\n",
    "                            )\n",
    "print (\"create_model API response\", create_model_api_response)\n",
    "\n",
    "# create sagemaker endpoint config\n",
    "create_endpoint_config_api_response = client.create_endpoint_config(\n",
    "                                            EndpointConfigName=f\"EndpointConfig-{model_name}\",\n",
    "                                            ProductionVariants=[\n",
    "                                                {\n",
    "                                                    'VariantName': 'prod1',\n",
    "                                                    'ModelName': model_name,\n",
    "                                                    'InitialInstanceCount': 1,\n",
    "                                                    'InstanceType': 'ml.t2.medium'\n",
    "                                                },\n",
    "                                            ]\n",
    "                                       )\n",
    "\n",
    "print (\"create_endpoint_config API response\", create_endpoint_config_api_response)\n",
    "\n",
    "# create sagemaker endpoint\n",
    "create_endpoint_api_response = client.create_endpoint(\n",
    "                                    EndpointName=endpoint_name,\n",
    "                                    EndpointConfigName=endpoint_config_name,\n",
    "                                )\n",
    "\n",
    "print (\"create_endpoint API response\", create_endpoint_api_response)    \n",
    "\n",
    "print(f\"Creating endpoint {endpoint_name}...\")\n",
    "waiter = client.get_waiter('endpoint_in_service')\n",
    "waiter.wait(EndpointName=endpoint_name)\n",
    "print(f\"Endpoint {endpoint_name} is in service.\")"
   ]
  },
  {
   "cell_type": "markdown",
   "id": "c71397f2-8dfb-417b-a093-1206aac9778a",
   "metadata": {
    "tags": []
   },
   "source": [
    "## Onboard Basic Tier Tenants"
   ]
  },
  {
   "cell_type": "markdown",
   "id": "3f9a1881-c92b-40dc-8e9f-fd0a61ec518a",
   "metadata": {},
   "source": [
    "The following Script retrieves the SaaS Control Plane URL and the username and password you require to login."
   ]
  },
  {
   "cell_type": "markdown",
   "id": "7bc2e796-843f-44c0-8f23-b3e0dd139aa2",
   "metadata": {
    "tags": []
   },
   "source": [
    "<div class=\"alert alert-block alert-info\">\n",
    "<font color='black'><b>!!! Follow instructions in the Workshop Studio to onboard 2 (two) Basic Tier Tenants</b></font>\n",
    "</div>"
   ]
  },
  {
   "cell_type": "markdown",
   "id": "f1671068-ce2d-42d7-a7f0-2ebc1893c8af",
   "metadata": {
    "tags": []
   },
   "source": [
    "## Test Inference"
   ]
  },
  {
   "cell_type": "markdown",
   "id": "ce24ce4e-c624-499f-b7e6-23e948823e11",
   "metadata": {
    "tags": []
   },
   "source": [
    "Execute the cell below to initialize the inference helper functions"
   ]
  },
  {
   "cell_type": "code",
   "execution_count": 78,
   "id": "7a8b4c0c-5b44-4a5d-824b-9eed45c80094",
   "metadata": {
    "tags": []
   },
   "outputs": [],
   "source": [
    "# Copyright Amazon.com, Inc. or its affiliates. All Rights Reserved.\n",
    "# SPDX-License-Identifier: MIT-0\n",
    "import json\n",
    "import base64\n",
    "import requests\n",
    "import argparse\n",
    "import os\n",
    "import boto3\n",
    "from boto3.dynamodb.conditions import Key\n",
    "\n",
    "\n",
    "def basic_tier_run_inference(username, password, tenant_name, request):\n",
    "    api_url=get_api_url(tenant_name)\n",
    "    jwt = get_jwt(username, password, tenant_name, api_url)\n",
    "    invoke_inference_endpoint(jwt, request, api_url+'basic_inference')\n",
    "    \n",
    "def run_inference(username, password, tenant_name, request):\n",
    "    api_url=get_api_url(tenant_name)\n",
    "    jwt = get_jwt(username, password, tenant_name, api_url)\n",
    "    invoke_inference_endpoint(jwt, request, api_url+'inference')\n",
    "\n",
    "def get_jwt(username, password, tenant_name, api_url):\n",
    "\n",
    "    auth_str = f'{username}:{password}'\n",
    "    byte_str = auth_str.encode('ascii')\n",
    "    auth_b64 = base64.b64encode(byte_str)\n",
    "\n",
    "    headers = {\n",
    "        'Authorization': 'Basic {}'.format(auth_b64.decode('ascii')),\n",
    "        'tenant-name': tenant_name\n",
    "    }\n",
    "\n",
    "    try:\n",
    "        print(\"Getting JWT\")\n",
    "        response = requests.get(api_url + 'jwt', headers=headers)\n",
    "        print(response.text if response.text else response.reason)\n",
    "        jwt = json.loads(response.text)['jwt']\n",
    "        return jwt\n",
    "    except Exception as e:\n",
    "        print(\"Error getting JWT\", e)\n",
    "        \n",
    "        \n",
    "    \n",
    "def invoke_inference_endpoint(jwt, request, api_url):\n",
    "\n",
    "    headers = {\n",
    "        'Authorization': 'Bearer {}'.format(jwt),\n",
    "        'Content-Type': 'text/csv'\n",
    "    }\n",
    "    \n",
    "    try:\n",
    "        print(f\"Inference request with: {request}\")\n",
    "        response = requests.post(api_url, headers=headers, data=request)\n",
    "        print(response.text if response.text else response.reason)\n",
    "    except Exception as e:\n",
    "        print(\"Error executing inference request\", e)\n",
    "\n",
    "def get_api_url(tenant_name):\n",
    "    dynamodb = boto3.resource('dynamodb')\n",
    "    table_tenant_details = dynamodb.Table('MLaaS-TenantDetails')\n",
    "    \n",
    "    try:\n",
    "        \n",
    "        tenant_details = table_tenant_details.query(\n",
    "            IndexName='tenantName-index',\n",
    "            KeyConditionExpression=Key('tenantName').eq(tenant_name)\n",
    "        )\n",
    "\n",
    "        api_url = tenant_details['Items'][0]['apiGatewayUrl']\n",
    "        print(api_url)\n",
    "        return api_url      \n",
    "    except Exception as error:\n",
    "        print(f'[Error]: {error}')\n",
    "        \n",
    "    "
   ]
  },
  {
   "cell_type": "markdown",
   "id": "a21b9769-ef0d-4b4b-9eee-934883df20ca",
   "metadata": {
    "tags": []
   },
   "source": [
    "NOTE: Provide the following data before executing the run_inference python function\n",
    "> First, run inference for basic tenant 1"
   ]
  },
  {
   "cell_type": "code",
   "execution_count": 72,
   "id": "7e30edd3-fbe0-4f3c-88a0-b88e51aa91e3",
   "metadata": {
    "tags": []
   },
   "outputs": [],
   "source": [
    "basic_tenant_1_username = \"ujwbukka+tenant6@amazon.com\" # Example: mlaas+basic1@amazon.com\n",
    "basic_tenant_1_name = \"tenant6\" # Example: basic1\n",
    "basic_tenant_1_request = \"84,1,3,98,2,4\" "
   ]
  },
  {
   "cell_type": "code",
   "execution_count": 79,
   "id": "96397946-e20f-4474-8e1a-eed4f631549d",
   "metadata": {
    "tags": []
   },
   "outputs": [
    {
     "name": "stdout",
     "output_type": "stream",
     "text": [
      "https://95v5i6meg7.execute-api.us-east-1.amazonaws.com/v1/\n",
      "Getting JWT\n",
      "{\"jwt\": \"eyJraWQiOiJlR0tIVmNESVJwSmZTUWlMZXZwb3IxVkk3dUVmSEZoMG9NOWpVMDU4TW5VPSIsImFsZyI6IlJTMjU2In0.eyJzdWIiOiJmNDc4NDQwOC03MGQxLTcwNjAtMWMxZC1lYzA5OTM2YzgzZWUiLCJjb2duaXRvOmdyb3VwcyI6WyJrczNmYTllazR6cW91ZXl6cWpmcXJ5Il0sImlzcyI6Imh0dHBzOlwvXC9jb2duaXRvLWlkcC51cy1lYXN0LTEuYW1hem9uYXdzLmNvbVwvdXMtZWFzdC0xX0FzeHRaZUx6aCIsImNvZ25pdG86dXNlcm5hbWUiOiJ1andidWtrYSt0ZW5hbnQ2QGFtYXpvbi5jb20iLCJvcmlnaW5fanRpIjoiZDVhM2Q1ZjQtYTZkMC00MTIzLTkzZDctYzkyMTVlMDI2OGJkIiwiY3VzdG9tOnRlbmFudElkIjoia3MzZmE5ZWs0enFvdWV5enFqZnFyeSIsImF1ZCI6IjI1bGY2ZnVsazNyYm1hM2xvcHY1N3AzcDIwIiwiZXZlbnRfaWQiOiI5M2NkMzI4Zi05NjZmLTQ2NzktOTM5YS1hZmMxMzQ0MzEyYzgiLCJjdXN0b206dXNlclJvbGUiOiJUZW5hbnRBZG1pbiIsInRva2VuX3VzZSI6ImlkIiwiYXV0aF90aW1lIjoxNjk2NjEyMzYyLCJleHAiOjE2OTY2MTU5NjIsImlhdCI6MTY5NjYxMjM2MiwianRpIjoiMzY1YWU1NGYtMGU2OS00OThmLTllZDAtZWViYmM4Y2ZkM2Y3IiwiZW1haWwiOiJ1andidWtrYSt0ZW5hbnQ2QGFtYXpvbi5jb20ifQ.ZeUTDq_QJJ3EOH56aRJK82Q1ZXzBuC7dWtcVkVb8vIQc9iCWkokWtvLv8zX-TUEP88ISn3bRLYrh1eL5_Zqf4-nQxTsPBGxIWiT2eu14yx30R6_02XzfGGYRRdMtAfdyZG929SEu64qn4Aff5PAntBHnjsWTXqHFQKy-QulU03Brswu1DNssW9nRQzeyK5L59IvkS0OfiYipHEAVZxEQ7iAlYGL20OWzmDreF7IutQCz9lNA592sN0ZKal9Rn5wb0jEVhGfFPswV2VVJ3pdprTniT9FUTiUcPvumOCWK-MbCApsHS_plxqFFvBq5itjHdiN08SXT_OpDg4G3uVzNEA\"}\n",
      "Inference request with: 84,1,3,98,2,4\n",
      "{\"message\": \"result: 106881.875\"}\n"
     ]
    }
   ],
   "source": [
    "basic_tier_run_inference(username=basic_tenant_1_username,password=\"Mlaa$1234\",tenant_name=basic_tenant_1_name,request=basic_tenant_1_request)"
   ]
  },
  {
   "cell_type": "markdown",
   "id": "2ad509f0-584b-4287-b130-5c7e46627a2f",
   "metadata": {},
   "source": [
    "NOTE: Provide the following data before executing the run_inference python function\n",
    "> First, run inference for basic tenant 2"
   ]
  },
  {
   "cell_type": "code",
   "execution_count": null,
   "id": "e6f4ac11-90d1-4eba-9842-eebe2adcbc7e",
   "metadata": {
    "tags": []
   },
   "outputs": [],
   "source": [
    "basic_tenant_2_username = \"basic2@example.com\" # Example: mlaas+basic2@amazon.com\n",
    "basic_tenant_2_name = \"basic2\" # Example: basic2\n",
    "basic_tenant_2_request = \"18,0,3,105,2,9\" "
   ]
  },
  {
   "cell_type": "code",
   "execution_count": null,
   "id": "d7f45256-c7aa-41a8-8b59-48f77f144c61",
   "metadata": {
    "tags": []
   },
   "outputs": [],
   "source": [
    "basic_tier_run_inference(username=basic_tenant_2_username,password=\"Mlaa$1234\",tenant_name=basic_tenant_2_name,request=basic_tenant_2_request)"
   ]
  },
  {
   "cell_type": "markdown",
   "id": "c00f0855-a235-4964-a0a3-67802bf9b6a9",
   "metadata": {},
   "source": [
    "## Lab 2"
   ]
  },
  {
   "cell_type": "markdown",
   "id": "d76980fb-b011-4dc0-be9d-74cb504d35fa",
   "metadata": {
    "tags": []
   },
   "source": [
    "## Onboard Advanced Tier Tenants"
   ]
  },
  {
   "cell_type": "markdown",
   "id": "13c7d396-b006-44c9-9562-5e5815968064",
   "metadata": {
    "tags": []
   },
   "source": [
    "<div class=\"alert alert-block alert-info\">\n",
    "<font color='black'><b>!!! Follow instructions in the Workshop Studio to onboard 2 (two) Advanced Tier Tenants</b></font>\n",
    "</div>"
   ]
  },
  {
   "cell_type": "markdown",
   "id": "3824482d-42fc-4174-b1be-fb5394b4c059",
   "metadata": {
    "tags": []
   },
   "source": [
    "## Upload Training Data"
   ]
  },
  {
   "cell_type": "markdown",
   "id": "3e5156b2-eeba-4b3b-abbe-c49686ed54b2",
   "metadata": {},
   "source": [
    "Execute the cell below to initialize the file upload helper function"
   ]
  },
  {
   "cell_type": "code",
   "execution_count": 80,
   "id": "2c95a748-7cfa-4cbc-af8a-f5a751f411f3",
   "metadata": {
    "tags": []
   },
   "outputs": [],
   "source": [
    "# Copyright Amazon.com, Inc. or its affiliates. All Rights Reserved.\n",
    "# SPDX-License-Identifier: MIT-0\n",
    "import json\n",
    "import base64\n",
    "import requests\n",
    "import argparse\n",
    "import os\n",
    "        \n",
    "def upload_file(username, password, tenant_name, file, file_type):\n",
    "    api_url=get_api_url(tenant_name)\n",
    "    jwt = get_jwt(username, password, tenant_name, api_url)\n",
    "    file_name =  os.path.basename(file)\n",
    "    \n",
    "    headers = {\n",
    "        'Authorization': 'Bearer {}'.format(jwt),\n",
    "        'Content-Type': 'text/csv',\n",
    "        'file-name': file_name,\n",
    "        'file-type': file_type\n",
    "    }\n",
    "\n",
    "    try:\n",
    "        print(f\"Uploading file: {file}\")\n",
    "        response = requests.put(\n",
    "            api_url + 'upload', headers=headers, data=open(file, 'rb'))\n",
    "        print(response.text if response.text else response.reason)\n",
    "    except Exception as e:\n",
    "        print(\"Error uploading file\", e)"
   ]
  },
  {
   "cell_type": "markdown",
   "id": "89a83b16-ef15-4277-8f98-d6f1bcc0acb3",
   "metadata": {
    "tags": []
   },
   "source": [
    "Run the python function above to upload your advanced tenant training data. This function will handle both, getting a JWT Token and uploading the training data to the correct S3 tenant prefix."
   ]
  },
  {
   "cell_type": "markdown",
   "id": "b81f1a67-900e-4bf0-af0e-fcfab4559762",
   "metadata": {},
   "source": [
    "NOTE: Provide the following data before executing the upload_file python function\n",
    "> First, upload the data for advanced tenant 1"
   ]
  },
  {
   "cell_type": "code",
   "execution_count": 81,
   "id": "84a28171-892d-4ee2-beba-393069d54ac2",
   "metadata": {
    "tags": []
   },
   "outputs": [],
   "source": [
    "advanced_tenant_1_username = \"ujwbukka+tenant4@amazon.com\" \n",
    "advanced_tenant_1_name = \"tenant4\" \n",
    "advanced_tenant_1_file = \"data/Advanced-Tenant1/advanced1_dataset.csv\" "
   ]
  },
  {
   "cell_type": "code",
   "execution_count": 82,
   "id": "80bb331e-687c-4225-8cd6-ec31e0721090",
   "metadata": {
    "tags": []
   },
   "outputs": [
    {
     "name": "stdout",
     "output_type": "stream",
     "text": [
      "https://6u5yivg9zc.execute-api.us-east-1.amazonaws.com/v1/\n",
      "Getting JWT\n",
      "{\"jwt\": \"eyJraWQiOiJQaFwvTW5PTGNQMDVPQnNuNVBianFLNk9QMys1UTA1b2l3WHVsZXNuRGZFaz0iLCJhbGciOiJSUzI1NiJ9.eyJzdWIiOiIwZDQ1MjA3NS00NmU4LTQ2ODItODY3ZC01MjE3ZTQwZThlMzkiLCJjb2duaXRvOmdyb3VwcyI6WyJka3FxNHRqN2YzcWc5cmh4ZmxoeXd3Il0sImlzcyI6Imh0dHBzOlwvXC9jb2duaXRvLWlkcC51cy1lYXN0LTEuYW1hem9uYXdzLmNvbVwvdXMtZWFzdC0xX0l4RFFtc1EwbyIsImNvZ25pdG86dXNlcm5hbWUiOiJ1andidWtrYSt0ZW5hbnQ0QGFtYXpvbi5jb20iLCJvcmlnaW5fanRpIjoiNWQzYzkyYTktYzA0MS00YWU3LTljNzMtYzgwOThjMzVlYjJjIiwiY3VzdG9tOnRlbmFudElkIjoiZGtxcTR0ajdmM3FnOXJoeGZsaHl3dyIsImF1ZCI6IjJhcG4xdGJqYzhwMW5zdm1tbnY0bnFsamwiLCJldmVudF9pZCI6Ijg3YmRlMjZiLTQyM2ItNDFjNy1iYTE5LWVlOTI4NGU0ZGVlMCIsImN1c3RvbTp1c2VyUm9sZSI6IlRlbmFudEFkbWluIiwidG9rZW5fdXNlIjoiaWQiLCJhdXRoX3RpbWUiOjE2OTY2MTI1MTcsImV4cCI6MTY5NjYxNjExNywiaWF0IjoxNjk2NjEyNTE3LCJqdGkiOiJiMTljNDIyYy03YzUyLTQ5ZDUtODJiOC02MWQ1ZTBiNGE2NTgiLCJlbWFpbCI6InVqd2J1a2thK3RlbmFudDRAYW1hem9uLmNvbSJ9.qsrrZv6-Na6rU5ZTzJK7LrvhSXQmnTH-3iAwtG0whNOIJT4TVZjsHAGp8m7neBUDdOmV2r0A4MawzAUFVrxZ5DBAaYqaUVzXbez0jwSYdJE5gDorw4g2JbqpZ7HukF_hbXlX4aYH_tZPM4MzDpZiNRiCvpOsVDJlQVj8XsJatU8aLq_P5-_2p0hJ787udKy_DuoCiFUzfU129jkekdGr0jmqFb_SoIcG9tZ95GcvRNWENzb2gOTTh3nBbVF1LpemOBToDhwTEJHO-pN8o4sVDc5oLwsbLlThjeD6Zj3YJXLNwv_2i3fSIVCEPiSrlITMDk88qxXEU9_gGY3XeUlUvw\"}\n",
      "Uploading file: data/Advanced-Tenant1/advanced1_dataset.csv\n",
      "advanced1_dataset.csv has been uploaded successfully.\n"
     ]
    }
   ],
   "source": [
    "upload_file(username=advanced_tenant_1_username, password=\"Mlaa$1234\",tenant_name=advanced_tenant_1_name,file_type=\"csv\",file=advanced_tenant_1_file)"
   ]
  },
  {
   "cell_type": "markdown",
   "id": "6c04b359-fd24-42d1-b424-275a7e8e8ff6",
   "metadata": {
    "tags": []
   },
   "source": [
    "NOTE: Provide the following data before executing the upload_file python function"
   ]
  },
  {
   "cell_type": "code",
   "execution_count": 116,
   "id": "ec30df26-2771-441d-b7e5-138c00b23474",
   "metadata": {
    "tags": []
   },
   "outputs": [],
   "source": [
    "advanced_tenant_1_username = \"advanced2@example.com\" \n",
    "advanced_tenant_1_name = \"advanced2\" \n",
    "advanced_tenant_1_file = \"data/Advanced-Tenant2/advanced2_dataset.csv\" "
   ]
  },
  {
   "cell_type": "code",
   "execution_count": 107,
   "id": "ce2bbf2d-1fd0-4cb2-a846-5fdbc3ce022f",
   "metadata": {
    "tags": []
   },
   "outputs": [
    {
     "name": "stdout",
     "output_type": "stream",
     "text": [
      "Getting JWT\n",
      "Error getting JWT Invalid URL 'v1/jwt': No scheme supplied. Perhaps you meant https://v1/jwt?\n",
      "Uploading file: tenant-training-data/basic-tenant-1-training-data.csv\n",
      "Error uploading file [Errno 2] No such file or directory: 'tenant-training-data/basic-tenant-1-training-data.csv'\n"
     ]
    }
   ],
   "source": [
    "upload_file(username=advanced_tenant_2_username, password=\"Mlaa$1234\",tenant_name=advanced_tenant_2_name,file_type=\"csv\",file=advanced_tenant_2_file)"
   ]
  },
  {
   "cell_type": "markdown",
   "id": "26862a0f-2838-4d29-8405-8826425a12f4",
   "metadata": {
    "tags": []
   },
   "source": [
    "<div class=\"alert alert-block alert-info\">\n",
    "<font color='black'><b>!!! Verify that execution of 2 new training pipelines has started. Use SageMaker console to check with execution status. Wait for the execution of the pipelines to complete</b></font>\n",
    "</div>"
   ]
  },
  {
   "cell_type": "markdown",
   "id": "b6fb1364-d690-4ded-a203-a60266e3776b",
   "metadata": {
    "tags": []
   },
   "source": [
    "## Test Inference"
   ]
  },
  {
   "cell_type": "code",
   "execution_count": 83,
   "id": "b82a4582-6efa-4b31-b646-1e8ce7ede153",
   "metadata": {
    "tags": []
   },
   "outputs": [
    {
     "name": "stdout",
     "output_type": "stream",
     "text": [
      "https://6u5yivg9zc.execute-api.us-east-1.amazonaws.com/v1/\n",
      "Getting JWT\n",
      "{\"jwt\": \"eyJraWQiOiJQaFwvTW5PTGNQMDVPQnNuNVBianFLNk9QMys1UTA1b2l3WHVsZXNuRGZFaz0iLCJhbGciOiJSUzI1NiJ9.eyJzdWIiOiIwZDQ1MjA3NS00NmU4LTQ2ODItODY3ZC01MjE3ZTQwZThlMzkiLCJjb2duaXRvOmdyb3VwcyI6WyJka3FxNHRqN2YzcWc5cmh4ZmxoeXd3Il0sImlzcyI6Imh0dHBzOlwvXC9jb2duaXRvLWlkcC51cy1lYXN0LTEuYW1hem9uYXdzLmNvbVwvdXMtZWFzdC0xX0l4RFFtc1EwbyIsImNvZ25pdG86dXNlcm5hbWUiOiJ1andidWtrYSt0ZW5hbnQ0QGFtYXpvbi5jb20iLCJvcmlnaW5fanRpIjoiOWIwNmNhNzctZjE3Ny00MTdmLTg1YmQtMTUwMzU1MmM3OTFhIiwiY3VzdG9tOnRlbmFudElkIjoiZGtxcTR0ajdmM3FnOXJoeGZsaHl3dyIsImF1ZCI6IjJhcG4xdGJqYzhwMW5zdm1tbnY0bnFsamwiLCJldmVudF9pZCI6ImFjNmYzODhkLTM5ZjYtNGU1NS04M2Q2LTAyNDBmOTMyY2NlYSIsImN1c3RvbTp1c2VyUm9sZSI6IlRlbmFudEFkbWluIiwidG9rZW5fdXNlIjoiaWQiLCJhdXRoX3RpbWUiOjE2OTY2MTI1NjQsImV4cCI6MTY5NjYxNjE2NCwiaWF0IjoxNjk2NjEyNTY0LCJqdGkiOiI4MDIzNTAwZi1jOGJiLTRlMTItYWZkNS1jOWQ2NDQzMmM2MjciLCJlbWFpbCI6InVqd2J1a2thK3RlbmFudDRAYW1hem9uLmNvbSJ9.e_mxKuLnZtPpx90HeVlySCXmxjRv8eipAbUPplYwvZrvbHotREmW_KlIyIjif0SeHdlClI4O__YOX63TKNJdNvLfI2zsV4ygDlxQDqBxok0vhOVPk6-V8X5owJm1sxbd_fiDAeG3PAsn5PJVjIKcYMET3AvsWGUmXE-TXqQbbEOgRsF9BAVKkcrpkR1BwE_7IDpQWkSudD9DK87x9h5qbr0IXvo5KSSPiFfjixRpPO31jVK6FanQVMkLn99CeDG7__2Z6C0ibICBXuQhaslJRT3uQkblEWYkAdMkt4FOQ0JPVRWhJI5AADZcvWJNk5HDpPLAoy5OXaFZGuevHK7yaw\"}\n",
      "Inference request with: 18,0,3,105,2,9\n",
      "{\"message\": \"[Error] Parameter validation failed:\n",
      "Invalid type for parameter EndpointName, value: None, type: <class 'NoneType'>, valid types: <class 'str'>\"}\n"
     ]
    }
   ],
   "source": [
    "advanced1_request = \"18,0,3,105,2,9\" \n",
    "run_inference(username=advanced_tenant_1_username,password=\"Mlaa$1234\",tenant_name=advanced_tenant_1_name,request=advanced1_request)"
   ]
  },
  {
   "cell_type": "code",
   "execution_count": 123,
   "id": "5494eeba-f2e9-4245-94cd-2b4103ada4f5",
   "metadata": {
    "tags": []
   },
   "outputs": [
    {
     "name": "stdout",
     "output_type": "stream",
     "text": [
      "Getting JWT\n",
      "Error getting JWT Invalid URL 'v1/jwt': No scheme supplied. Perhaps you meant https://v1/jwt?\n",
      "Inference request with: 1993,2244,5,2,1.18,2\n",
      "Error executing inference request Invalid URL 'v2/inference': No scheme supplied. Perhaps you meant https://v2/inference?\n"
     ]
    }
   ],
   "source": [
    "advanced2_request = \"18,0,3,105,2,9\" \n",
    "run_inference(username=advanced_tenant_2_username,password=\"Mlaa$1234\",tenant_name=advanced_tenant_2_name,request=advanced_tenant_2_request)"
   ]
  },
  {
   "cell_type": "markdown",
   "id": "68275322-31ea-485c-9d13-e00bb95d5bd1",
   "metadata": {},
   "source": [
    "### Lab 3"
   ]
  },
  {
   "cell_type": "raw",
   "id": "9a52926d-c112-48ad-9e55-ee75090a5c63",
   "metadata": {
    "tags": []
   },
   "source": [
    "## Onboard Premium Tier Tenants"
   ]
  },
  {
   "cell_type": "markdown",
   "id": "3ec7f290-8243-47b2-8f94-d59b48647e5a",
   "metadata": {
    "tags": []
   },
   "source": [
    "<div class=\"alert alert-block alert-info\">\n",
    "<font color='black'><b>!!! Follow instructions in the Workshop Studio to onboard 1 Premium Tier Tenant named Premium1</b></font>\n",
    "</div>"
   ]
  },
  {
   "cell_type": "markdown",
   "id": "f8f0e89b-075d-4c6d-a031-f75c83a4e243",
   "metadata": {
    "tags": []
   },
   "source": [
    "## Test Inference"
   ]
  },
  {
   "cell_type": "code",
   "execution_count": null,
   "id": "750f793a-ffcc-43f6-be51-aa33eab2d8b1",
   "metadata": {},
   "outputs": [],
   "source": [
    "premium_tenant_1_username = \"premium1@example.com\" \n",
    "premium_tenant_1_name = \"premium1\" \n",
    "dedicated_inference_api_url_for_premium1 = \"\""
   ]
  },
  {
   "cell_type": "code",
   "execution_count": 121,
   "id": "7f5e89b4-0b14-4382-969a-4bbfc3557573",
   "metadata": {
    "tags": []
   },
   "outputs": [
    {
     "name": "stdout",
     "output_type": "stream",
     "text": [
      "Getting JWT\n",
      "Error getting JWT Invalid URL 'v1/jwt': No scheme supplied. Perhaps you meant https://v1/jwt?\n",
      "Inference request with: 1993,2244,5,2,1.18,2\n",
      "Error executing inference request Invalid URL 'v2/inference': No scheme supplied. Perhaps you meant https://v2/inference?\n"
     ]
    }
   ],
   "source": [
    "premium1_request = \"18,0,3,105,2,9\" \n",
    "run_inference(username=premium_tenant_1_username,password=\"Mlaa$1234\",tenant_name=premium_tenant_1_name,request=request)"
   ]
  }
 ],
 "metadata": {
  "availableInstances": [
   {
    "_defaultOrder": 0,
    "_isFastLaunch": true,
    "category": "General purpose",
    "gpuNum": 0,
    "hideHardwareSpecs": false,
    "memoryGiB": 4,
    "name": "ml.t3.medium",
    "vcpuNum": 2
   },
   {
    "_defaultOrder": 1,
    "_isFastLaunch": false,
    "category": "General purpose",
    "gpuNum": 0,
    "hideHardwareSpecs": false,
    "memoryGiB": 8,
    "name": "ml.t3.large",
    "vcpuNum": 2
   },
   {
    "_defaultOrder": 2,
    "_isFastLaunch": false,
    "category": "General purpose",
    "gpuNum": 0,
    "hideHardwareSpecs": false,
    "memoryGiB": 16,
    "name": "ml.t3.xlarge",
    "vcpuNum": 4
   },
   {
    "_defaultOrder": 3,
    "_isFastLaunch": false,
    "category": "General purpose",
    "gpuNum": 0,
    "hideHardwareSpecs": false,
    "memoryGiB": 32,
    "name": "ml.t3.2xlarge",
    "vcpuNum": 8
   },
   {
    "_defaultOrder": 4,
    "_isFastLaunch": true,
    "category": "General purpose",
    "gpuNum": 0,
    "hideHardwareSpecs": false,
    "memoryGiB": 8,
    "name": "ml.m5.large",
    "vcpuNum": 2
   },
   {
    "_defaultOrder": 5,
    "_isFastLaunch": false,
    "category": "General purpose",
    "gpuNum": 0,
    "hideHardwareSpecs": false,
    "memoryGiB": 16,
    "name": "ml.m5.xlarge",
    "vcpuNum": 4
   },
   {
    "_defaultOrder": 6,
    "_isFastLaunch": false,
    "category": "General purpose",
    "gpuNum": 0,
    "hideHardwareSpecs": false,
    "memoryGiB": 32,
    "name": "ml.m5.2xlarge",
    "vcpuNum": 8
   },
   {
    "_defaultOrder": 7,
    "_isFastLaunch": false,
    "category": "General purpose",
    "gpuNum": 0,
    "hideHardwareSpecs": false,
    "memoryGiB": 64,
    "name": "ml.m5.4xlarge",
    "vcpuNum": 16
   },
   {
    "_defaultOrder": 8,
    "_isFastLaunch": false,
    "category": "General purpose",
    "gpuNum": 0,
    "hideHardwareSpecs": false,
    "memoryGiB": 128,
    "name": "ml.m5.8xlarge",
    "vcpuNum": 32
   },
   {
    "_defaultOrder": 9,
    "_isFastLaunch": false,
    "category": "General purpose",
    "gpuNum": 0,
    "hideHardwareSpecs": false,
    "memoryGiB": 192,
    "name": "ml.m5.12xlarge",
    "vcpuNum": 48
   },
   {
    "_defaultOrder": 10,
    "_isFastLaunch": false,
    "category": "General purpose",
    "gpuNum": 0,
    "hideHardwareSpecs": false,
    "memoryGiB": 256,
    "name": "ml.m5.16xlarge",
    "vcpuNum": 64
   },
   {
    "_defaultOrder": 11,
    "_isFastLaunch": false,
    "category": "General purpose",
    "gpuNum": 0,
    "hideHardwareSpecs": false,
    "memoryGiB": 384,
    "name": "ml.m5.24xlarge",
    "vcpuNum": 96
   },
   {
    "_defaultOrder": 12,
    "_isFastLaunch": false,
    "category": "General purpose",
    "gpuNum": 0,
    "hideHardwareSpecs": false,
    "memoryGiB": 8,
    "name": "ml.m5d.large",
    "vcpuNum": 2
   },
   {
    "_defaultOrder": 13,
    "_isFastLaunch": false,
    "category": "General purpose",
    "gpuNum": 0,
    "hideHardwareSpecs": false,
    "memoryGiB": 16,
    "name": "ml.m5d.xlarge",
    "vcpuNum": 4
   },
   {
    "_defaultOrder": 14,
    "_isFastLaunch": false,
    "category": "General purpose",
    "gpuNum": 0,
    "hideHardwareSpecs": false,
    "memoryGiB": 32,
    "name": "ml.m5d.2xlarge",
    "vcpuNum": 8
   },
   {
    "_defaultOrder": 15,
    "_isFastLaunch": false,
    "category": "General purpose",
    "gpuNum": 0,
    "hideHardwareSpecs": false,
    "memoryGiB": 64,
    "name": "ml.m5d.4xlarge",
    "vcpuNum": 16
   },
   {
    "_defaultOrder": 16,
    "_isFastLaunch": false,
    "category": "General purpose",
    "gpuNum": 0,
    "hideHardwareSpecs": false,
    "memoryGiB": 128,
    "name": "ml.m5d.8xlarge",
    "vcpuNum": 32
   },
   {
    "_defaultOrder": 17,
    "_isFastLaunch": false,
    "category": "General purpose",
    "gpuNum": 0,
    "hideHardwareSpecs": false,
    "memoryGiB": 192,
    "name": "ml.m5d.12xlarge",
    "vcpuNum": 48
   },
   {
    "_defaultOrder": 18,
    "_isFastLaunch": false,
    "category": "General purpose",
    "gpuNum": 0,
    "hideHardwareSpecs": false,
    "memoryGiB": 256,
    "name": "ml.m5d.16xlarge",
    "vcpuNum": 64
   },
   {
    "_defaultOrder": 19,
    "_isFastLaunch": false,
    "category": "General purpose",
    "gpuNum": 0,
    "hideHardwareSpecs": false,
    "memoryGiB": 384,
    "name": "ml.m5d.24xlarge",
    "vcpuNum": 96
   },
   {
    "_defaultOrder": 20,
    "_isFastLaunch": false,
    "category": "General purpose",
    "gpuNum": 0,
    "hideHardwareSpecs": true,
    "memoryGiB": 0,
    "name": "ml.geospatial.interactive",
    "supportedImageNames": [
     "sagemaker-geospatial-v1-0"
    ],
    "vcpuNum": 0
   },
   {
    "_defaultOrder": 21,
    "_isFastLaunch": true,
    "category": "Compute optimized",
    "gpuNum": 0,
    "hideHardwareSpecs": false,
    "memoryGiB": 4,
    "name": "ml.c5.large",
    "vcpuNum": 2
   },
   {
    "_defaultOrder": 22,
    "_isFastLaunch": false,
    "category": "Compute optimized",
    "gpuNum": 0,
    "hideHardwareSpecs": false,
    "memoryGiB": 8,
    "name": "ml.c5.xlarge",
    "vcpuNum": 4
   },
   {
    "_defaultOrder": 23,
    "_isFastLaunch": false,
    "category": "Compute optimized",
    "gpuNum": 0,
    "hideHardwareSpecs": false,
    "memoryGiB": 16,
    "name": "ml.c5.2xlarge",
    "vcpuNum": 8
   },
   {
    "_defaultOrder": 24,
    "_isFastLaunch": false,
    "category": "Compute optimized",
    "gpuNum": 0,
    "hideHardwareSpecs": false,
    "memoryGiB": 32,
    "name": "ml.c5.4xlarge",
    "vcpuNum": 16
   },
   {
    "_defaultOrder": 25,
    "_isFastLaunch": false,
    "category": "Compute optimized",
    "gpuNum": 0,
    "hideHardwareSpecs": false,
    "memoryGiB": 72,
    "name": "ml.c5.9xlarge",
    "vcpuNum": 36
   },
   {
    "_defaultOrder": 26,
    "_isFastLaunch": false,
    "category": "Compute optimized",
    "gpuNum": 0,
    "hideHardwareSpecs": false,
    "memoryGiB": 96,
    "name": "ml.c5.12xlarge",
    "vcpuNum": 48
   },
   {
    "_defaultOrder": 27,
    "_isFastLaunch": false,
    "category": "Compute optimized",
    "gpuNum": 0,
    "hideHardwareSpecs": false,
    "memoryGiB": 144,
    "name": "ml.c5.18xlarge",
    "vcpuNum": 72
   },
   {
    "_defaultOrder": 28,
    "_isFastLaunch": false,
    "category": "Compute optimized",
    "gpuNum": 0,
    "hideHardwareSpecs": false,
    "memoryGiB": 192,
    "name": "ml.c5.24xlarge",
    "vcpuNum": 96
   },
   {
    "_defaultOrder": 29,
    "_isFastLaunch": true,
    "category": "Accelerated computing",
    "gpuNum": 1,
    "hideHardwareSpecs": false,
    "memoryGiB": 16,
    "name": "ml.g4dn.xlarge",
    "vcpuNum": 4
   },
   {
    "_defaultOrder": 30,
    "_isFastLaunch": false,
    "category": "Accelerated computing",
    "gpuNum": 1,
    "hideHardwareSpecs": false,
    "memoryGiB": 32,
    "name": "ml.g4dn.2xlarge",
    "vcpuNum": 8
   },
   {
    "_defaultOrder": 31,
    "_isFastLaunch": false,
    "category": "Accelerated computing",
    "gpuNum": 1,
    "hideHardwareSpecs": false,
    "memoryGiB": 64,
    "name": "ml.g4dn.4xlarge",
    "vcpuNum": 16
   },
   {
    "_defaultOrder": 32,
    "_isFastLaunch": false,
    "category": "Accelerated computing",
    "gpuNum": 1,
    "hideHardwareSpecs": false,
    "memoryGiB": 128,
    "name": "ml.g4dn.8xlarge",
    "vcpuNum": 32
   },
   {
    "_defaultOrder": 33,
    "_isFastLaunch": false,
    "category": "Accelerated computing",
    "gpuNum": 4,
    "hideHardwareSpecs": false,
    "memoryGiB": 192,
    "name": "ml.g4dn.12xlarge",
    "vcpuNum": 48
   },
   {
    "_defaultOrder": 34,
    "_isFastLaunch": false,
    "category": "Accelerated computing",
    "gpuNum": 1,
    "hideHardwareSpecs": false,
    "memoryGiB": 256,
    "name": "ml.g4dn.16xlarge",
    "vcpuNum": 64
   },
   {
    "_defaultOrder": 35,
    "_isFastLaunch": false,
    "category": "Accelerated computing",
    "gpuNum": 1,
    "hideHardwareSpecs": false,
    "memoryGiB": 61,
    "name": "ml.p3.2xlarge",
    "vcpuNum": 8
   },
   {
    "_defaultOrder": 36,
    "_isFastLaunch": false,
    "category": "Accelerated computing",
    "gpuNum": 4,
    "hideHardwareSpecs": false,
    "memoryGiB": 244,
    "name": "ml.p3.8xlarge",
    "vcpuNum": 32
   },
   {
    "_defaultOrder": 37,
    "_isFastLaunch": false,
    "category": "Accelerated computing",
    "gpuNum": 8,
    "hideHardwareSpecs": false,
    "memoryGiB": 488,
    "name": "ml.p3.16xlarge",
    "vcpuNum": 64
   },
   {
    "_defaultOrder": 38,
    "_isFastLaunch": false,
    "category": "Accelerated computing",
    "gpuNum": 8,
    "hideHardwareSpecs": false,
    "memoryGiB": 768,
    "name": "ml.p3dn.24xlarge",
    "vcpuNum": 96
   },
   {
    "_defaultOrder": 39,
    "_isFastLaunch": false,
    "category": "Memory Optimized",
    "gpuNum": 0,
    "hideHardwareSpecs": false,
    "memoryGiB": 16,
    "name": "ml.r5.large",
    "vcpuNum": 2
   },
   {
    "_defaultOrder": 40,
    "_isFastLaunch": false,
    "category": "Memory Optimized",
    "gpuNum": 0,
    "hideHardwareSpecs": false,
    "memoryGiB": 32,
    "name": "ml.r5.xlarge",
    "vcpuNum": 4
   },
   {
    "_defaultOrder": 41,
    "_isFastLaunch": false,
    "category": "Memory Optimized",
    "gpuNum": 0,
    "hideHardwareSpecs": false,
    "memoryGiB": 64,
    "name": "ml.r5.2xlarge",
    "vcpuNum": 8
   },
   {
    "_defaultOrder": 42,
    "_isFastLaunch": false,
    "category": "Memory Optimized",
    "gpuNum": 0,
    "hideHardwareSpecs": false,
    "memoryGiB": 128,
    "name": "ml.r5.4xlarge",
    "vcpuNum": 16
   },
   {
    "_defaultOrder": 43,
    "_isFastLaunch": false,
    "category": "Memory Optimized",
    "gpuNum": 0,
    "hideHardwareSpecs": false,
    "memoryGiB": 256,
    "name": "ml.r5.8xlarge",
    "vcpuNum": 32
   },
   {
    "_defaultOrder": 44,
    "_isFastLaunch": false,
    "category": "Memory Optimized",
    "gpuNum": 0,
    "hideHardwareSpecs": false,
    "memoryGiB": 384,
    "name": "ml.r5.12xlarge",
    "vcpuNum": 48
   },
   {
    "_defaultOrder": 45,
    "_isFastLaunch": false,
    "category": "Memory Optimized",
    "gpuNum": 0,
    "hideHardwareSpecs": false,
    "memoryGiB": 512,
    "name": "ml.r5.16xlarge",
    "vcpuNum": 64
   },
   {
    "_defaultOrder": 46,
    "_isFastLaunch": false,
    "category": "Memory Optimized",
    "gpuNum": 0,
    "hideHardwareSpecs": false,
    "memoryGiB": 768,
    "name": "ml.r5.24xlarge",
    "vcpuNum": 96
   },
   {
    "_defaultOrder": 47,
    "_isFastLaunch": false,
    "category": "Accelerated computing",
    "gpuNum": 1,
    "hideHardwareSpecs": false,
    "memoryGiB": 16,
    "name": "ml.g5.xlarge",
    "vcpuNum": 4
   },
   {
    "_defaultOrder": 48,
    "_isFastLaunch": false,
    "category": "Accelerated computing",
    "gpuNum": 1,
    "hideHardwareSpecs": false,
    "memoryGiB": 32,
    "name": "ml.g5.2xlarge",
    "vcpuNum": 8
   },
   {
    "_defaultOrder": 49,
    "_isFastLaunch": false,
    "category": "Accelerated computing",
    "gpuNum": 1,
    "hideHardwareSpecs": false,
    "memoryGiB": 64,
    "name": "ml.g5.4xlarge",
    "vcpuNum": 16
   },
   {
    "_defaultOrder": 50,
    "_isFastLaunch": false,
    "category": "Accelerated computing",
    "gpuNum": 1,
    "hideHardwareSpecs": false,
    "memoryGiB": 128,
    "name": "ml.g5.8xlarge",
    "vcpuNum": 32
   },
   {
    "_defaultOrder": 51,
    "_isFastLaunch": false,
    "category": "Accelerated computing",
    "gpuNum": 1,
    "hideHardwareSpecs": false,
    "memoryGiB": 256,
    "name": "ml.g5.16xlarge",
    "vcpuNum": 64
   },
   {
    "_defaultOrder": 52,
    "_isFastLaunch": false,
    "category": "Accelerated computing",
    "gpuNum": 4,
    "hideHardwareSpecs": false,
    "memoryGiB": 192,
    "name": "ml.g5.12xlarge",
    "vcpuNum": 48
   },
   {
    "_defaultOrder": 53,
    "_isFastLaunch": false,
    "category": "Accelerated computing",
    "gpuNum": 4,
    "hideHardwareSpecs": false,
    "memoryGiB": 384,
    "name": "ml.g5.24xlarge",
    "vcpuNum": 96
   },
   {
    "_defaultOrder": 54,
    "_isFastLaunch": false,
    "category": "Accelerated computing",
    "gpuNum": 8,
    "hideHardwareSpecs": false,
    "memoryGiB": 768,
    "name": "ml.g5.48xlarge",
    "vcpuNum": 192
   },
   {
    "_defaultOrder": 55,
    "_isFastLaunch": false,
    "category": "Accelerated computing",
    "gpuNum": 8,
    "hideHardwareSpecs": false,
    "memoryGiB": 1152,
    "name": "ml.p4d.24xlarge",
    "vcpuNum": 96
   },
   {
    "_defaultOrder": 56,
    "_isFastLaunch": false,
    "category": "Accelerated computing",
    "gpuNum": 8,
    "hideHardwareSpecs": false,
    "memoryGiB": 1152,
    "name": "ml.p4de.24xlarge",
    "vcpuNum": 96
   }
  ],
  "instance_type": "ml.t3.medium",
  "kernelspec": {
   "display_name": "Python 3 (Data Science)",
   "language": "python",
   "name": "python3__SAGEMAKER_INTERNAL__arn:aws:sagemaker:us-east-1:081325390199:image/datascience-1.0"
  },
  "language_info": {
   "codemirror_mode": {
    "name": "ipython",
    "version": 3
   },
   "file_extension": ".py",
   "mimetype": "text/x-python",
   "name": "python",
   "nbconvert_exporter": "python",
   "pygments_lexer": "ipython3",
   "version": "3.7.10"
  }
 },
 "nbformat": 4,
 "nbformat_minor": 5
}
