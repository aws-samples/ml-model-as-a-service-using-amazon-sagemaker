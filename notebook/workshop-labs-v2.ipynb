{
 "cells": [
  {
   "cell_type": "markdown",
   "id": "3eefa2b8-d9d1-47bf-ad2b-51e2273ec9fc",
   "metadata": {
    "tags": []
   },
   "source": [
    "# Orchestrating Jobs, Model Registration, and Continuous Deployment with Amazon SageMaker\n",
    "\n",
    "Amazon SageMaker offers Machine Learning application developers and Machine Learning operations engineers the ability to orchestrate SageMaker jobs and author reproducible Machine Learning pipelines, deploy custom-build models for inference in real-time with low latency or offline inferences with Batch Transform, and track lineage of artifacts. You can institute sound operational practices in deploying and monitoring production workflows, deployment of model artifacts, and track artifact lineage through a simple interface, adhering to safety and best-practice paradigmsfor Machine Learning application development."
   ]
  },
  {
   "cell_type": "markdown",
   "id": "7e1e584e-9732-411a-939a-38c8564f5a4e",
   "metadata": {
    "tags": []
   },
   "source": [
    "## Layout of the SageMaker ModelBuild Project Template\n",
    "\n",
    "The template provides a starting point for bringing your SageMaker Pipeline development to production.\n",
    "\n",
    "```\n",
    "|-- codebuild-buildspec.yml\n",
    "|-- CONTRIBUTING.md\n",
    "|-- pipelines\n",
    "|   |-- abalone\n",
    "|   |   |-- evaluate.py\n",
    "|   |   |-- __init__.py\n",
    "|   |   |-- pipeline.py\n",
    "|   |   `-- preprocess.py\n",
    "|   |-- get_pipeline_definition.py\n",
    "|   |-- __init__.py\n",
    "|   |-- run_pipeline.py\n",
    "|   |-- _utils.py\n",
    "|   `-- __version__.py\n",
    "|-- README.md\n",
    "|-- sagemaker-pipelines-project.ipynb\n",
    "|-- setup.cfg\n",
    "|-- setup.py\n",
    "|-- tests\n",
    "|   `-- test_pipelines.py\n",
    "`-- tox.ini\n",
    "```"
   ]
  },
  {
   "cell_type": "markdown",
   "id": "e7469f38-b0e4-4762-88e4-6c594af851bb",
   "metadata": {},
   "source": [
    "### A SageMaker Pipeline\n",
    "\n",
    "The pipeline that we create follows a typical Machine Learning Application pattern of pre-processing, training, evaluation, and conditional model registration and publication, if the quality of the model is sufficient.\n",
    "\n",
    "### Getting some constants\n",
    "\n",
    "We get some constants from the local execution environment."
   ]
  },
  {
   "cell_type": "code",
   "execution_count": 2,
   "id": "89228faa-c30c-4c71-b655-a4f8bc9092c4",
   "metadata": {
    "tags": []
   },
   "outputs": [
    {
     "name": "stderr",
     "output_type": "stream",
     "text": [
      "/opt/conda/lib/python3.7/site-packages/boto3/compat.py:82: PythonDeprecationWarning: Boto3 will no longer support Python 3.7 starting December 13, 2023. To continue receiving service updates, bug fixes, and security updates please upgrade to Python 3.8 or later. More information can be found here: https://aws.amazon.com/blogs/developer/python-support-policy-updates-for-aws-sdks-and-tools/\n",
      "  warnings.warn(warning, PythonDeprecationWarning)\n"
     ]
    }
   ],
   "source": [
    "import boto3\n",
    "import sagemaker\n",
    "\n",
    "region = boto3.Session().region_name\n",
    "account_number = boto3.client('sts').get_caller_identity().get('Account')\n",
    "role = sagemaker.get_execution_role()\n",
    "default_bucket = sagemaker.session.Session().default_bucket()\n",
    "account_number = boto3.client('sts').get_caller_identity().get('Account')\n",
    "client = boto3.client('sagemaker')"
   ]
  },
  {
   "cell_type": "code",
   "execution_count": 3,
   "id": "3419bf30-8257-4246-8252-ab8a80a8f995",
   "metadata": {
    "tags": []
   },
   "outputs": [],
   "source": [
    "model_package_group_name = f\"CustomerChurnGenericModel\"\n",
    "pipeline_name = f\"CustomerChurnPipeline\"\n",
    "generic_model_data_bucket_name = f\"sagemaker-mlaas-pooled-{region}-{account_number}\""
   ]
  },
  {
   "cell_type": "markdown",
   "id": "6d663d48-2738-4552-9888-3c91a8b4915e",
   "metadata": {
    "tags": []
   },
   "source": [
    "## Upload Sample Training Data"
   ]
  },
  {
   "cell_type": "code",
   "execution_count": 4,
   "id": "448752a6-dba8-45da-bd00-010d5576dc48",
   "metadata": {
    "tags": []
   },
   "outputs": [
    {
     "data": {
      "text/plain": [
       "'s3://sagemaker-mlaas-pooled-us-east-1-854977427211/sample-data'"
      ]
     },
     "execution_count": 4,
     "metadata": {},
     "output_type": "execute_result"
    }
   ],
   "source": [
    "s3_bucket_prefix = \"sample-data\"\n",
    "local_path = \"data/AnyCompany\"\n",
    "sagemaker.Session().upload_data(path=local_path,bucket=generic_model_data_bucket_name,key_prefix=s3_bucket_prefix)"
   ]
  },
  {
   "cell_type": "markdown",
   "id": "97355762-d626-4ec4-95a7-451430ebb4ab",
   "metadata": {
    "tags": []
   },
   "source": [
    "### Get the pipeline instance\n",
    "Here we get the pipeline instance from your pipeline module so that we can work with it."
   ]
  },
  {
   "cell_type": "code",
   "execution_count": 5,
   "id": "f2d0ee29-78c0-47d0-8fc0-e2dfa9d658c6",
   "metadata": {
    "tags": []
   },
   "outputs": [
    {
     "name": "stderr",
     "output_type": "stream",
     "text": [
      "The input argument instance_type of function (sagemaker.image_uris.retrieve) is a pipeline variable (<class 'sagemaker.workflow.parameters.ParameterString'>), which is not allowed. The default_value of this Parameter object will be used to override it. Please make sure the default_value is valid.\n",
      "/opt/conda/lib/python3.7/site-packages/sagemaker/workflow/pipeline_context.py:300: UserWarning: Running within a PipelineSession, there will be No Wait, No Logs, and No Job being started.\n",
      "  UserWarning,\n"
     ]
    }
   ],
   "source": [
    "from pipeline import get_pipeline\n",
    "\n",
    "pipeline = get_pipeline(\n",
    "    region=region,\n",
    "    role=role,\n",
    "    default_bucket=default_bucket,\n",
    "    model_package_group_name=model_package_group_name,\n",
    "    pipeline_name=pipeline_name,\n",
    ")"
   ]
  },
  {
   "cell_type": "markdown",
   "id": "bc1347fa-f6df-4812-a3fb-4f327631d4c6",
   "metadata": {},
   "source": [
    "### Submit the pipeline to SageMaker and start execution\n",
    "Let's submit our pipeline definition to the workflow service. The role passed in will be used by the workflow service to create all the jobs defined in the steps."
   ]
  },
  {
   "cell_type": "code",
   "execution_count": 6,
   "id": "371669d0-e1c8-491d-8292-d87b3eb9250c",
   "metadata": {
    "tags": []
   },
   "outputs": [
    {
     "name": "stderr",
     "output_type": "stream",
     "text": [
      "Popping out 'TrainingJobName' from the pipeline definition by default since it will be overridden at pipeline execution time. Please utilize the PipelineDefinitionConfig to persist this field in the pipeline definition if desired.\n",
      "No finished training job found associated with this estimator. Please make sure this estimator is only used for building workflow config\n",
      "Popping out 'CertifyForMarketplace' from the pipeline definition since it will be overridden in pipeline execution time.\n",
      "Popping out 'ModelPackageName' from the pipeline definition by default since it will be overridden at pipeline execution time. Please utilize the PipelineDefinitionConfig to persist this field in the pipeline definition if desired.\n",
      "WARNING:sagemaker.workflow.utilities:Popping out 'ProcessingJobName' from the pipeline definition by default since it will be overridden at pipeline execution time. Please utilize the PipelineDefinitionConfig to persist this field in the pipeline definition if desired.\n",
      "WARNING:sagemaker.workflow.utilities:Popping out 'TrainingJobName' from the pipeline definition by default since it will be overridden at pipeline execution time. Please utilize the PipelineDefinitionConfig to persist this field in the pipeline definition if desired.\n",
      "WARNING:sagemaker.estimator:No finished training job found associated with this estimator. Please make sure this estimator is only used for building workflow config\n",
      "WARNING:sagemaker.workflow._utils:Popping out 'CertifyForMarketplace' from the pipeline definition since it will be overridden in pipeline execution time.\n",
      "WARNING:sagemaker.workflow.utilities:Popping out 'ModelPackageName' from the pipeline definition by default since it will be overridden at pipeline execution time. Please utilize the PipelineDefinitionConfig to persist this field in the pipeline definition if desired.\n",
      "WARNING:sagemaker.workflow.utilities:Popping out 'ProcessingJobName' from the pipeline definition by default since it will be overridden at pipeline execution time. Please utilize the PipelineDefinitionConfig to persist this field in the pipeline definition if desired.\n"
     ]
    },
    {
     "data": {
      "text/plain": [
       "{'PipelineArn': 'arn:aws:sagemaker:us-east-1:854977427211:pipeline/CustomerChurnPipeline',\n",
       " 'ResponseMetadata': {'RequestId': '91a55fc1-e511-4c62-98b9-04caffac0dff',\n",
       "  'HTTPStatusCode': 200,\n",
       "  'HTTPHeaders': {'x-amzn-requestid': '91a55fc1-e511-4c62-98b9-04caffac0dff',\n",
       "   'content-type': 'application/x-amz-json-1.1',\n",
       "   'content-length': '89',\n",
       "   'date': 'Fri, 29 Sep 2023 01:45:42 GMT'},\n",
       "  'RetryAttempts': 0}}"
      ]
     },
     "execution_count": 6,
     "metadata": {},
     "output_type": "execute_result"
    }
   ],
   "source": [
    "pipeline.upsert(role_arn=role)"
   ]
  },
  {
   "cell_type": "markdown",
   "id": "a3537204-0822-4f82-b45e-6f7e58fd1393",
   "metadata": {},
   "source": [
    "We'll start the pipeline, accepting all the default parameters.\n",
    "\n",
    "Values can also be passed into these pipeline parameters on starting of the pipeline, and will be covered later. "
   ]
  },
  {
   "cell_type": "code",
   "execution_count": 7,
   "id": "54291c9e-0c2b-4ef5-940d-043a6cee8ab2",
   "metadata": {
    "tags": []
   },
   "outputs": [],
   "source": [
    "execution = pipeline.start(\n",
    "    parameters=dict(\n",
    "        ProcessingInstanceType=\"ml.c5.xlarge\",\n",
    "        ProcessingInstanceCount=1,\n",
    "        TrainDataPath = f\"s3://{generic_model_data_bucket_name}/sample-data/train/train.csv\",\n",
    "        TestDataPath = f\"s3://{generic_model_data_bucket_name}/sample-data/test/test.csv\",\n",
    "        ValidationDataPath = f\"s3://{generic_model_data_bucket_name}/sample-data/validation/validation.csv\",\n",
    "        ModelPath = f\"s3://{generic_model_data_bucket_name}/model_artifacts\",\n",
    "        BucketName = f\"{generic_model_data_bucket_name}\",\n",
    "        ObjectKey = f\"basic_tier_model_artifacts\",\n",
    "        ModelPackageGroupName = f\"{model_package_group_name}\",\n",
    "        ModelVersion = \"0\"\n",
    "    )\n",
    ")\n"
   ]
  },
  {
   "cell_type": "markdown",
   "id": "6bb65de2-e037-4318-a1b7-486fdac2e610",
   "metadata": {},
   "source": [
    "### Pipeline Operations: examining and waiting for pipeline execution\n",
    "\n",
    "Now we describe execution instance and list the steps in the execution to find out more about the execution."
   ]
  },
  {
   "cell_type": "code",
   "execution_count": 8,
   "id": "352bb3e8-b9a5-4751-bc01-59706ec1e196",
   "metadata": {
    "tags": []
   },
   "outputs": [
    {
     "data": {
      "text/plain": [
       "{'PipelineArn': 'arn:aws:sagemaker:us-east-1:854977427211:pipeline/CustomerChurnPipeline',\n",
       " 'PipelineExecutionArn': 'arn:aws:sagemaker:us-east-1:854977427211:pipeline/CustomerChurnPipeline/execution/jtf24iz099p0',\n",
       " 'PipelineExecutionDisplayName': 'execution-1695951946572',\n",
       " 'PipelineExecutionStatus': 'Executing',\n",
       " 'PipelineExperimentConfig': {'ExperimentName': 'customerchurnpipeline',\n",
       "  'TrialName': 'jtf24iz099p0'},\n",
       " 'CreationTime': datetime.datetime(2023, 9, 29, 1, 45, 46, 493000, tzinfo=tzlocal()),\n",
       " 'LastModifiedTime': datetime.datetime(2023, 9, 29, 1, 45, 46, 493000, tzinfo=tzlocal()),\n",
       " 'CreatedBy': {'UserProfileArn': 'arn:aws:sagemaker:us-east-1:854977427211:user-profile/d-xtqedkdldism/mlaas-provider-user',\n",
       "  'UserProfileName': 'mlaas-provider-user',\n",
       "  'DomainId': 'd-xtqedkdldism'},\n",
       " 'LastModifiedBy': {'UserProfileArn': 'arn:aws:sagemaker:us-east-1:854977427211:user-profile/d-xtqedkdldism/mlaas-provider-user',\n",
       "  'UserProfileName': 'mlaas-provider-user',\n",
       "  'DomainId': 'd-xtqedkdldism'},\n",
       " 'ResponseMetadata': {'RequestId': '3bdb5675-e9e8-4ee3-aafc-36738fc1f3f7',\n",
       "  'HTTPStatusCode': 200,\n",
       "  'HTTPHeaders': {'x-amzn-requestid': '3bdb5675-e9e8-4ee3-aafc-36738fc1f3f7',\n",
       "   'content-type': 'application/x-amz-json-1.1',\n",
       "   'content-length': '854',\n",
       "   'date': 'Fri, 29 Sep 2023 01:45:48 GMT'},\n",
       "  'RetryAttempts': 0}}"
      ]
     },
     "execution_count": 8,
     "metadata": {},
     "output_type": "execute_result"
    }
   ],
   "source": [
    "execution.describe()"
   ]
  },
  {
   "cell_type": "markdown",
   "id": "94a0aed1-4854-4dc9-8458-4c2c58106fc4",
   "metadata": {},
   "source": [
    "We can wait for the execution by invoking `wait()` on the execution:"
   ]
  },
  {
   "cell_type": "code",
   "execution_count": 9,
   "id": "bd5ecdcb-0261-4cb9-b70b-13fdfcacdbd2",
   "metadata": {
    "tags": []
   },
   "outputs": [],
   "source": [
    "execution.wait()"
   ]
  },
  {
   "cell_type": "markdown",
   "id": "37c2f6ad-219d-45bf-b14d-bd2dbb293423",
   "metadata": {},
   "source": [
    "We can list the execution steps to check out the status and artifacts:"
   ]
  },
  {
   "cell_type": "markdown",
   "id": "f99894ff-32a0-4aae-bd49-5605ac606680",
   "metadata": {},
   "source": [
    "## Create Basic Tier SageMaker Endpoint"
   ]
  },
  {
   "cell_type": "markdown",
   "id": "cc3df3c9-509e-4b56-9a64-f521b7ad3e9f",
   "metadata": {},
   "source": [
    "We will deploy the model to a SageMaker dedicated endpoint."
   ]
  },
  {
   "cell_type": "code",
   "execution_count": null,
   "id": "b938959e-b9ff-4718-ab10-bf3c574f3f2a",
   "metadata": {},
   "outputs": [
    {
     "name": "stdout",
     "output_type": "stream",
     "text": [
      "create_model API response {'ModelArn': 'arn:aws:sagemaker:us-east-1:854977427211:model/genericmodel', 'ResponseMetadata': {'RequestId': '6b3d8a69-f555-4396-b727-3d23c2f79179', 'HTTPStatusCode': 200, 'HTTPHeaders': {'x-amzn-requestid': '6b3d8a69-f555-4396-b727-3d23c2f79179', 'content-type': 'application/x-amz-json-1.1', 'content-length': '74', 'date': 'Fri, 29 Sep 2023 01:53:33 GMT'}, 'RetryAttempts': 0}}\n",
      "create_endpoint_config API response {'EndpointConfigArn': 'arn:aws:sagemaker:us-east-1:854977427211:endpoint-config/endpointconfig-genericmodel', 'ResponseMetadata': {'RequestId': '98fcbb24-2706-48f7-b680-a0ef2a40d284', 'HTTPStatusCode': 200, 'HTTPHeaders': {'x-amzn-requestid': '98fcbb24-2706-48f7-b680-a0ef2a40d284', 'content-type': 'application/x-amz-json-1.1', 'content-length': '108', 'date': 'Fri, 29 Sep 2023 01:53:33 GMT'}, 'RetryAttempts': 0}}\n",
      "create_endpoint API response {'EndpointArn': 'arn:aws:sagemaker:us-east-1:854977427211:endpoint/endpoint-genericmodel', 'ResponseMetadata': {'RequestId': 'cc174f4f-27c0-45ef-bf59-531078d0402a', 'HTTPStatusCode': 200, 'HTTPHeaders': {'x-amzn-requestid': 'cc174f4f-27c0-45ef-bf59-531078d0402a', 'content-type': 'application/x-amz-json-1.1', 'content-length': '89', 'date': 'Fri, 29 Sep 2023 01:53:34 GMT'}, 'RetryAttempts': 0}}\n",
      "Creating endpoint Endpoint-GenericModel...\n"
     ]
    }
   ],
   "source": [
    "model_name='GenericModel'\n",
    "endpoint_config_name = f\"EndpointConfig-{model_name}\"\n",
    "endpoint_name = f\"Endpoint-{model_name}\"\n",
    "shared_inference_api_url = \"https://lmla2luuak.execute-api.us-east-1.amazonaws.com/\" # Example: https://3289dfakjkak.execute-api.us-east-1.amazonaws.com/\n",
    "\n",
    "\n",
    "# get image URI\n",
    "image_uri = sagemaker.image_uris.retrieve(\n",
    "        framework=\"xgboost\",\n",
    "        region=region,\n",
    "        version=\"1.0-1\",\n",
    "        py_version=\"py3\",\n",
    "        instance_type='ml.t2.medium',\n",
    "    )\n",
    "\n",
    "# create sagemaker model\n",
    "create_model_api_response = client.create_model(\n",
    "                                    ModelName=model_name,\n",
    "                                    PrimaryContainer={\n",
    "                                        'Image': image_uri,\n",
    "                                        'ModelDataUrl': f\"s3://{generic_model_data_bucket_name}/basic_tier_model_artifacts/sample-data.model.0.tar.gz\",\n",
    "                                        'Environment': {}\n",
    "                                    },\n",
    "                                    ExecutionRoleArn=role\n",
    "                            )\n",
    "print (\"create_model API response\", create_model_api_response)\n",
    "\n",
    "# create sagemaker endpoint config\n",
    "create_endpoint_config_api_response = client.create_endpoint_config(\n",
    "                                            EndpointConfigName=f\"EndpointConfig-{model_name}\",\n",
    "                                            ProductionVariants=[\n",
    "                                                {\n",
    "                                                    'VariantName': 'prod1',\n",
    "                                                    'ModelName': model_name,\n",
    "                                                    'InitialInstanceCount': 1,\n",
    "                                                    'InstanceType': 'ml.t2.medium'\n",
    "                                                },\n",
    "                                            ]\n",
    "                                       )\n",
    "\n",
    "print (\"create_endpoint_config API response\", create_endpoint_config_api_response)\n",
    "\n",
    "# create sagemaker endpoint\n",
    "create_endpoint_api_response = client.create_endpoint(\n",
    "                                    EndpointName=endpoint_name,\n",
    "                                    EndpointConfigName=endpoint_config_name,\n",
    "                                )\n",
    "\n",
    "print (\"create_endpoint API response\", create_endpoint_api_response)    \n",
    "\n",
    "print(f\"Creating endpoint {endpoint_name}...\")\n",
    "waiter = client.get_waiter('endpoint_in_service')\n",
    "waiter.wait(EndpointName=endpoint_name)\n",
    "print(f\"Endpoint {endpoint_name} is in service.\")"
   ]
  },
  {
   "cell_type": "markdown",
   "id": "c71397f2-8dfb-417b-a093-1206aac9778a",
   "metadata": {
    "tags": []
   },
   "source": [
    "## Onboard Basic Tier Tenants"
   ]
  },
  {
   "cell_type": "markdown",
   "id": "3f9a1881-c92b-40dc-8e9f-fd0a61ec518a",
   "metadata": {},
   "source": [
    "The following Script retrieves the SaaS Control Plane URL and the username and password you require to login."
   ]
  },
  {
   "cell_type": "markdown",
   "id": "7bc2e796-843f-44c0-8f23-b3e0dd139aa2",
   "metadata": {
    "tags": []
   },
   "source": [
    "<div class=\"alert alert-block alert-info\">\n",
    "<font color='black'><b>!!! Follow instructions in the Workshop Studio to onboard 2 (two) Basic Tier Tenants</b></font>\n",
    "</div>"
   ]
  },
  {
   "cell_type": "markdown",
   "id": "f1671068-ce2d-42d7-a7f0-2ebc1893c8af",
   "metadata": {
    "tags": []
   },
   "source": [
    "## Test Inference"
   ]
  },
  {
   "cell_type": "markdown",
   "id": "ce24ce4e-c624-499f-b7e6-23e948823e11",
   "metadata": {
    "tags": []
   },
   "source": [
    "Execute the cell below to initialize the inference helper functions"
   ]
  },
  {
   "cell_type": "code",
   "execution_count": 47,
   "id": "7a8b4c0c-5b44-4a5d-824b-9eed45c80094",
   "metadata": {
    "tags": []
   },
   "outputs": [],
   "source": [
    "# Copyright Amazon.com, Inc. or its affiliates. All Rights Reserved.\n",
    "# SPDX-License-Identifier: MIT-0\n",
    "import json\n",
    "import base64\n",
    "import requests\n",
    "import argparse\n",
    "import os\n",
    "\n",
    "def get_jwt(username, password, tenant_name, api_url):\n",
    "\n",
    "    auth_str = f'{username}:{password}'\n",
    "    byte_str = auth_str.encode('ascii')\n",
    "    auth_b64 = base64.b64encode(byte_str)\n",
    "\n",
    "    headers = {\n",
    "        'Authorization': 'Basic {}'.format(auth_b64.decode('ascii')),\n",
    "        'tenant-name': tenant_name\n",
    "    }\n",
    "\n",
    "    try:\n",
    "        print(\"Getting JWT\")\n",
    "        response = requests.get(api_url + 'v1/jwt', headers=headers)\n",
    "        print(response.text if response.text else response.reason)\n",
    "        jwt = json.loads(response.text)['jwt']\n",
    "        return jwt\n",
    "    except Exception as e:\n",
    "        print(\"Error getting JWT\", e)\n",
    "\n",
    "def run_inference(username, password, tenant_name, request, api_url):\n",
    "\n",
    "    jwt = get_jwt(username, password, tenant_name, api_url)\n",
    "\n",
    "    headers = {\n",
    "        'Authorization': 'Bearer {}'.format(jwt),\n",
    "        'Content-Type': 'text/csv'\n",
    "    }\n",
    "    \n",
    "    try:\n",
    "        print(f\"Inference request with: {request}\")\n",
    "        response = requests.post(api_url + 'v1/basic_inference', headers=headers, data=request)\n",
    "        print(response.text if response.text else response.reason)\n",
    "    except Exception as e:\n",
    "        print(\"Error executing inference request\", e)"
   ]
  },
  {
   "cell_type": "markdown",
   "id": "a21b9769-ef0d-4b4b-9eee-934883df20ca",
   "metadata": {
    "tags": []
   },
   "source": [
    "NOTE: Provide the following data before executing the run_inference python function\n",
    "> First, run inference for basic tenant 1"
   ]
  },
  {
   "cell_type": "code",
   "execution_count": 48,
   "id": "7e30edd3-fbe0-4f3c-88a0-b88e51aa91e3",
   "metadata": {
    "tags": []
   },
   "outputs": [],
   "source": [
    "basic_tenant_1_username = \"salyekh+basic_tenant_1@amazon.com\" # Example: mlaas+basic1@amazon.com\n",
    "basic_tenant_1_name = \"basic_tenant_1\" # Example: basic1\n",
    "basic_tenant_1_request = \"84,1,3,98,2,4\" "
   ]
  },
  {
   "cell_type": "code",
   "execution_count": 49,
   "id": "96397946-e20f-4474-8e1a-eed4f631549d",
   "metadata": {
    "tags": []
   },
   "outputs": [
    {
     "name": "stdout",
     "output_type": "stream",
     "text": [
      "Getting JWT\n",
      "{\"jwt\": \"eyJraWQiOiJuTmIyVGhSTnNvVUVycnRaWFB1dk9LMFFxUlpqVDBzUWJsTlwvaGUzZmQrZz0iLCJhbGciOiJSUzI1NiJ9.eyJzdWIiOiIxMjAyMGUzNC02YTdmLTQ1Y2EtYjlhMS1hZGZmOGU5Nzk2MzQiLCJjb2duaXRvOmdyb3VwcyI6WyI4aTJndDVwN3VhNWp1ZWdxeHZzdGdxIl0sImlzcyI6Imh0dHBzOlwvXC9jb2duaXRvLWlkcC51cy1lYXN0LTEuYW1hem9uYXdzLmNvbVwvdXMtZWFzdC0xX3Jwck1yeXpINCIsImNvZ25pdG86dXNlcm5hbWUiOiJzYWx5ZWtoK2Jhc2ljX3RlbmFudF8xQGFtYXpvbi5jb20iLCJvcmlnaW5fanRpIjoiOTg1NTgyNDktNzU2NS00NTlhLTg1YWMtYzkzZjNlZWQ2ZGEzIiwiY3VzdG9tOnRlbmFudElkIjoiOGkyZ3Q1cDd1YTVqdWVncXh2c3RncSIsImF1ZCI6IjU3aTRkb2tiYXVrNHJ0dmM1M3VvYnRlbmxkIiwiZXZlbnRfaWQiOiI4MzgwYTFmMy0yYzYyLTQ3ZWItODNkOS0xNGViNDNkNzY2ZGIiLCJjdXN0b206dXNlclJvbGUiOiJUZW5hbnRBZG1pbiIsInRva2VuX3VzZSI6ImlkIiwiYXV0aF90aW1lIjoxNjk0MDU4MzU5LCJleHAiOjE2OTQwNjE5NTksImlhdCI6MTY5NDA1ODM1OSwianRpIjoiMTZhY2VlNTktZjVkYS00NGQxLThlNjMtZGZhMTRlMmQ3MDVmIiwiZW1haWwiOiJzYWx5ZWtoK2Jhc2ljX3RlbmFudF8xQGFtYXpvbi5jb20ifQ.GoMmqPtPNj_OqYf4TKMKfSrVZIVWbll8DgoolpGzv5lJs-fBwmYFWnLts-TscmlSznyqA8OGjsQHcU17yR5IXIjMGkeCHANS6liP0EO3QiV-lC11m0OitzSyxP8dSZ1n4_uHD9-xPtos2QGioivXaWw5MmmqKqb8y8eCyDg9nPaL6kQJqcZZ5LzZdH_uGLbHxM2C-FftbtKQcnfOIaqe7HtE21-8ZBHRltNzQNqepIM9rKfn6oMr4LpQkQcO5udUUsdUvLILOlvqDQ4_ECQHBoHP3eOSJNxIbe4OxFeT7-KA8tF9BzuoOOcM84dQcLZEulGumovq71Tv3rczjlOF5Q\"}\n",
      "Inference request with: 84,1,3,98,2,4\n",
      "{\"message\": \"result: 0.47922831773757935\"}\n"
     ]
    }
   ],
   "source": [
    "run_inference(username=basic_tenant_1_username,password=\"Mlaa$1234\",tenant_name=basic_tenant_1_name,api_url=shared_inference_api_url,request=basic_tenant_1_request)"
   ]
  },
  {
   "cell_type": "markdown",
   "id": "2ad509f0-584b-4287-b130-5c7e46627a2f",
   "metadata": {},
   "source": [
    "NOTE: Provide the following data before executing the run_inference python function\n",
    "> First, run inference for basic tenant 2"
   ]
  },
  {
   "cell_type": "code",
   "execution_count": null,
   "id": "e6f4ac11-90d1-4eba-9842-eebe2adcbc7e",
   "metadata": {
    "tags": []
   },
   "outputs": [],
   "source": [
    "basic_tenant_2_username = \"basic2@example.com\" # Example: mlaas+basic2@amazon.com\n",
    "basic_tenant_2_name = \"basic2\" # Example: basic2\n",
    "basic_tenant_2_request = \"18,0,3,105,2,9\" "
   ]
  },
  {
   "cell_type": "code",
   "execution_count": null,
   "id": "d7f45256-c7aa-41a8-8b59-48f77f144c61",
   "metadata": {
    "tags": []
   },
   "outputs": [],
   "source": [
    "run_inference(username=basic_tenant_2_username,password=\"Mlaa$1234\",tenant_name=basic_tenant_2_name,api_url=shared_inference_api_url,request=basic_tenant_2_request)"
   ]
  },
  {
   "cell_type": "markdown",
   "id": "c00f0855-a235-4964-a0a3-67802bf9b6a9",
   "metadata": {},
   "source": [
    "## Lab 2"
   ]
  },
  {
   "cell_type": "markdown",
   "id": "d76980fb-b011-4dc0-be9d-74cb504d35fa",
   "metadata": {
    "tags": []
   },
   "source": [
    "## Onboard Advanced Tier Tenants"
   ]
  },
  {
   "cell_type": "markdown",
   "id": "13c7d396-b006-44c9-9562-5e5815968064",
   "metadata": {
    "tags": []
   },
   "source": [
    "<div class=\"alert alert-block alert-info\">\n",
    "<font color='black'><b>!!! Follow instructions in the Workshop Studio to onboard 2 (two) Advanced Tier Tenants</b></font>\n",
    "</div>"
   ]
  },
  {
   "cell_type": "markdown",
   "id": "3824482d-42fc-4174-b1be-fb5394b4c059",
   "metadata": {
    "tags": []
   },
   "source": [
    "## Upload Training Data"
   ]
  },
  {
   "cell_type": "markdown",
   "id": "3e5156b2-eeba-4b3b-abbe-c49686ed54b2",
   "metadata": {},
   "source": [
    "Execute the cell below to initialize the file upload helper function"
   ]
  },
  {
   "cell_type": "code",
   "execution_count": 52,
   "id": "2c95a748-7cfa-4cbc-af8a-f5a751f411f3",
   "metadata": {
    "tags": []
   },
   "outputs": [],
   "source": [
    "# Copyright Amazon.com, Inc. or its affiliates. All Rights Reserved.\n",
    "# SPDX-License-Identifier: MIT-0\n",
    "import json\n",
    "import base64\n",
    "import requests\n",
    "import argparse\n",
    "import os\n",
    "        \n",
    "def upload_file(username, password, tenant_name, file, file_type):\n",
    "    \n",
    "    jwt = get_jwt(username, password, tenant_name, api_url)\n",
    "    file_name =  os.path.basename(file)\n",
    "    \n",
    "    headers = {\n",
    "        'Authorization': 'Bearer {}'.format(jwt),\n",
    "        'Content-Type': 'text/csv',\n",
    "        'file-name': file_name,\n",
    "        'file-type': file_type\n",
    "    }\n",
    "\n",
    "    try:\n",
    "        print(f\"Uploading file: {file}\")\n",
    "        response = requests.put(\n",
    "            api_url + 'v1/upload', headers=headers, data=open(file, 'rb'))\n",
    "        print(response.text if response.text else response.reason)\n",
    "    except Exception as e:\n",
    "        print(\"Error uploading file\", e)"
   ]
  },
  {
   "cell_type": "markdown",
   "id": "89a83b16-ef15-4277-8f98-d6f1bcc0acb3",
   "metadata": {
    "tags": []
   },
   "source": [
    "Run the python function above to upload your advanced tenant training data. This function will handle both, getting a JWT Token and uploading the training data to the correct S3 tenant prefix."
   ]
  },
  {
   "cell_type": "markdown",
   "id": "b81f1a67-900e-4bf0-af0e-fcfab4559762",
   "metadata": {},
   "source": [
    "NOTE: Provide the following data before executing the upload_file python function\n",
    "> First, upload the data for advanced tenant 1"
   ]
  },
  {
   "cell_type": "code",
   "execution_count": 53,
   "id": "84a28171-892d-4ee2-beba-393069d54ac2",
   "metadata": {
    "tags": []
   },
   "outputs": [],
   "source": [
    "advanced_tenant_1_username = \"advanced1@example.com\" \n",
    "advanced_tenant_1_name = \"advanced1\" \n",
    "advanced_tenant_1_file = \"data/Advanced-Tenant1/advanced1_dataset.csv\" "
   ]
  },
  {
   "cell_type": "code",
   "execution_count": 54,
   "id": "80bb331e-687c-4225-8cd6-ec31e0721090",
   "metadata": {
    "tags": []
   },
   "outputs": [
    {
     "ename": "NameError",
     "evalue": "name 'api_url' is not defined",
     "output_type": "error",
     "traceback": [
      "\u001b[0;31m---------------------------------------------------------------------------\u001b[0m",
      "\u001b[0;31mNameError\u001b[0m                                 Traceback (most recent call last)",
      "\u001b[0;32m<ipython-input-54-7d0b5cf4f2ef>\u001b[0m in \u001b[0;36m<module>\u001b[0;34m\u001b[0m\n\u001b[0;32m----> 1\u001b[0;31m \u001b[0mupload_file\u001b[0m\u001b[0;34m(\u001b[0m\u001b[0musername\u001b[0m\u001b[0;34m=\u001b[0m\u001b[0madvanced_tenant_1_username\u001b[0m\u001b[0;34m,\u001b[0m \u001b[0mpassword\u001b[0m\u001b[0;34m=\u001b[0m\u001b[0;34m\"Mlaa$1234\"\u001b[0m\u001b[0;34m,\u001b[0m\u001b[0mtenant_name\u001b[0m\u001b[0;34m=\u001b[0m\u001b[0madvanced_tenant_1_name\u001b[0m\u001b[0;34m,\u001b[0m\u001b[0mfile_type\u001b[0m\u001b[0;34m=\u001b[0m\u001b[0;34m\"csv\"\u001b[0m\u001b[0;34m,\u001b[0m\u001b[0mfile\u001b[0m\u001b[0;34m=\u001b[0m\u001b[0madvanced_tenant_1_file\u001b[0m\u001b[0;34m)\u001b[0m\u001b[0;34m\u001b[0m\u001b[0;34m\u001b[0m\u001b[0m\n\u001b[0m",
      "\u001b[0;32m<ipython-input-52-93aae37fc109>\u001b[0m in \u001b[0;36mupload_file\u001b[0;34m(username, password, tenant_name, file, file_type)\u001b[0m\n\u001b[1;32m      9\u001b[0m \u001b[0;32mdef\u001b[0m \u001b[0mupload_file\u001b[0m\u001b[0;34m(\u001b[0m\u001b[0musername\u001b[0m\u001b[0;34m,\u001b[0m \u001b[0mpassword\u001b[0m\u001b[0;34m,\u001b[0m \u001b[0mtenant_name\u001b[0m\u001b[0;34m,\u001b[0m \u001b[0mfile\u001b[0m\u001b[0;34m,\u001b[0m \u001b[0mfile_type\u001b[0m\u001b[0;34m)\u001b[0m\u001b[0;34m:\u001b[0m\u001b[0;34m\u001b[0m\u001b[0;34m\u001b[0m\u001b[0m\n\u001b[1;32m     10\u001b[0m \u001b[0;34m\u001b[0m\u001b[0m\n\u001b[0;32m---> 11\u001b[0;31m     \u001b[0mjwt\u001b[0m \u001b[0;34m=\u001b[0m \u001b[0mget_jwt\u001b[0m\u001b[0;34m(\u001b[0m\u001b[0musername\u001b[0m\u001b[0;34m,\u001b[0m \u001b[0mpassword\u001b[0m\u001b[0;34m,\u001b[0m \u001b[0mtenant_name\u001b[0m\u001b[0;34m,\u001b[0m \u001b[0mapi_url\u001b[0m\u001b[0;34m)\u001b[0m\u001b[0;34m\u001b[0m\u001b[0;34m\u001b[0m\u001b[0m\n\u001b[0m\u001b[1;32m     12\u001b[0m     \u001b[0mfile_name\u001b[0m \u001b[0;34m=\u001b[0m  \u001b[0mos\u001b[0m\u001b[0;34m.\u001b[0m\u001b[0mpath\u001b[0m\u001b[0;34m.\u001b[0m\u001b[0mbasename\u001b[0m\u001b[0;34m(\u001b[0m\u001b[0mfile\u001b[0m\u001b[0;34m)\u001b[0m\u001b[0;34m\u001b[0m\u001b[0;34m\u001b[0m\u001b[0m\n\u001b[1;32m     13\u001b[0m \u001b[0;34m\u001b[0m\u001b[0m\n",
      "\u001b[0;31mNameError\u001b[0m: name 'api_url' is not defined"
     ]
    }
   ],
   "source": [
    "upload_file(username=advanced_tenant_1_username, password=\"Mlaa$1234\",tenant_name=advanced_tenant_1_name,file_type=\"csv\",file=advanced_tenant_1_file)"
   ]
  },
  {
   "cell_type": "markdown",
   "id": "6c04b359-fd24-42d1-b424-275a7e8e8ff6",
   "metadata": {
    "tags": []
   },
   "source": [
    "NOTE: Provide the following data before executing the upload_file python function"
   ]
  },
  {
   "cell_type": "code",
   "execution_count": 116,
   "id": "ec30df26-2771-441d-b7e5-138c00b23474",
   "metadata": {
    "tags": []
   },
   "outputs": [],
   "source": [
    "advanced_tenant_1_username = \"advanced2@example.com\" \n",
    "advanced_tenant_1_name = \"advanced2\" \n",
    "advanced_tenant_1_file = \"data/Advanced-Tenant2/advanced2_dataset.csv\" "
   ]
  },
  {
   "cell_type": "code",
   "execution_count": 107,
   "id": "ce2bbf2d-1fd0-4cb2-a846-5fdbc3ce022f",
   "metadata": {
    "tags": []
   },
   "outputs": [
    {
     "name": "stdout",
     "output_type": "stream",
     "text": [
      "Getting JWT\n",
      "Error getting JWT Invalid URL 'v1/jwt': No scheme supplied. Perhaps you meant https://v1/jwt?\n",
      "Uploading file: tenant-training-data/basic-tenant-1-training-data.csv\n",
      "Error uploading file [Errno 2] No such file or directory: 'tenant-training-data/basic-tenant-1-training-data.csv'\n"
     ]
    }
   ],
   "source": [
    "upload_file(username=advanced_tenant_2_username, password=\"Mlaa$1234\",tenant_name=advanced_tenant_2_name,file_type=\"csv\",file=advanced_tenant_2_file)"
   ]
  },
  {
   "cell_type": "markdown",
   "id": "26862a0f-2838-4d29-8405-8826425a12f4",
   "metadata": {
    "tags": []
   },
   "source": [
    "<div class=\"alert alert-block alert-info\">\n",
    "<font color='black'><b>!!! Verify that execution of 2 new training pipelines has started. Use SageMaker console to check with execution status. Wait for the execution of the pipelines to complete</b></font>\n",
    "</div>"
   ]
  },
  {
   "cell_type": "markdown",
   "id": "b6fb1364-d690-4ded-a203-a60266e3776b",
   "metadata": {
    "tags": []
   },
   "source": [
    "## Test Inference"
   ]
  },
  {
   "cell_type": "code",
   "execution_count": 121,
   "id": "b82a4582-6efa-4b31-b646-1e8ce7ede153",
   "metadata": {
    "tags": []
   },
   "outputs": [
    {
     "name": "stdout",
     "output_type": "stream",
     "text": [
      "Getting JWT\n",
      "Error getting JWT Invalid URL 'v1/jwt': No scheme supplied. Perhaps you meant https://v1/jwt?\n",
      "Inference request with: 1993,2244,5,2,1.18,2\n",
      "Error executing inference request Invalid URL 'v2/inference': No scheme supplied. Perhaps you meant https://v2/inference?\n"
     ]
    }
   ],
   "source": [
    "advanced1_request = \"18,0,3,105,2,9\" \n",
    "run_inference(username=advanced_tenant_1_username,password=\"Mlaa$1234\",tenant_name=advanced_tenant_1_name,api_url=shared_inference_api_url,request=advanced_tenant_1_request)"
   ]
  },
  {
   "cell_type": "code",
   "execution_count": 123,
   "id": "5494eeba-f2e9-4245-94cd-2b4103ada4f5",
   "metadata": {
    "tags": []
   },
   "outputs": [
    {
     "name": "stdout",
     "output_type": "stream",
     "text": [
      "Getting JWT\n",
      "Error getting JWT Invalid URL 'v1/jwt': No scheme supplied. Perhaps you meant https://v1/jwt?\n",
      "Inference request with: 1993,2244,5,2,1.18,2\n",
      "Error executing inference request Invalid URL 'v2/inference': No scheme supplied. Perhaps you meant https://v2/inference?\n"
     ]
    }
   ],
   "source": [
    "advanced2_request = \"18,0,3,105,2,9\" \n",
    "run_inference(username=advanced_tenant_2_username,password=\"Mlaa$1234\",tenant_name=advanced_tenant_2_name,api_url=shared_inference_api_url,request=advanced_tenant_2_request)"
   ]
  },
  {
   "cell_type": "markdown",
   "id": "68275322-31ea-485c-9d13-e00bb95d5bd1",
   "metadata": {},
   "source": [
    "### Lab 3"
   ]
  },
  {
   "cell_type": "raw",
   "id": "9a52926d-c112-48ad-9e55-ee75090a5c63",
   "metadata": {
    "tags": []
   },
   "source": [
    "## Onboard Premium Tier Tenants"
   ]
  },
  {
   "cell_type": "markdown",
   "id": "3ec7f290-8243-47b2-8f94-d59b48647e5a",
   "metadata": {
    "tags": []
   },
   "source": [
    "<div class=\"alert alert-block alert-info\">\n",
    "<font color='black'><b>!!! Follow instructions in the Workshop Studio to onboard 1 Premium Tier Tenant named Premium1</b></font>\n",
    "</div>"
   ]
  },
  {
   "cell_type": "markdown",
   "id": "f8f0e89b-075d-4c6d-a031-f75c83a4e243",
   "metadata": {
    "tags": []
   },
   "source": [
    "## Test Inference"
   ]
  },
  {
   "cell_type": "code",
   "execution_count": null,
   "id": "750f793a-ffcc-43f6-be51-aa33eab2d8b1",
   "metadata": {},
   "outputs": [],
   "source": [
    "premium_tenant_1_username = \"premium1@example.com\" \n",
    "premium_tenant_1_name = \"premium1\" \n",
    "dedicated_inference_api_url_for_premium1 = \"\""
   ]
  },
  {
   "cell_type": "code",
   "execution_count": 121,
   "id": "7f5e89b4-0b14-4382-969a-4bbfc3557573",
   "metadata": {
    "tags": []
   },
   "outputs": [
    {
     "name": "stdout",
     "output_type": "stream",
     "text": [
      "Getting JWT\n",
      "Error getting JWT Invalid URL 'v1/jwt': No scheme supplied. Perhaps you meant https://v1/jwt?\n",
      "Inference request with: 1993,2244,5,2,1.18,2\n",
      "Error executing inference request Invalid URL 'v2/inference': No scheme supplied. Perhaps you meant https://v2/inference?\n"
     ]
    }
   ],
   "source": [
    "premium1_request = \"18,0,3,105,2,9\" \n",
    "run_inference(username=premium_tenant_1_username,password=\"Mlaa$1234\",tenant_name=premium_tenant_1_name,api_url=advanced_tenant_1_api_url,request=request)"
   ]
  }
 ],
 "metadata": {
  "availableInstances": [
   {
    "_defaultOrder": 0,
    "_isFastLaunch": true,
    "category": "General purpose",
    "gpuNum": 0,
    "hideHardwareSpecs": false,
    "memoryGiB": 4,
    "name": "ml.t3.medium",
    "vcpuNum": 2
   },
   {
    "_defaultOrder": 1,
    "_isFastLaunch": false,
    "category": "General purpose",
    "gpuNum": 0,
    "hideHardwareSpecs": false,
    "memoryGiB": 8,
    "name": "ml.t3.large",
    "vcpuNum": 2
   },
   {
    "_defaultOrder": 2,
    "_isFastLaunch": false,
    "category": "General purpose",
    "gpuNum": 0,
    "hideHardwareSpecs": false,
    "memoryGiB": 16,
    "name": "ml.t3.xlarge",
    "vcpuNum": 4
   },
   {
    "_defaultOrder": 3,
    "_isFastLaunch": false,
    "category": "General purpose",
    "gpuNum": 0,
    "hideHardwareSpecs": false,
    "memoryGiB": 32,
    "name": "ml.t3.2xlarge",
    "vcpuNum": 8
   },
   {
    "_defaultOrder": 4,
    "_isFastLaunch": true,
    "category": "General purpose",
    "gpuNum": 0,
    "hideHardwareSpecs": false,
    "memoryGiB": 8,
    "name": "ml.m5.large",
    "vcpuNum": 2
   },
   {
    "_defaultOrder": 5,
    "_isFastLaunch": false,
    "category": "General purpose",
    "gpuNum": 0,
    "hideHardwareSpecs": false,
    "memoryGiB": 16,
    "name": "ml.m5.xlarge",
    "vcpuNum": 4
   },
   {
    "_defaultOrder": 6,
    "_isFastLaunch": false,
    "category": "General purpose",
    "gpuNum": 0,
    "hideHardwareSpecs": false,
    "memoryGiB": 32,
    "name": "ml.m5.2xlarge",
    "vcpuNum": 8
   },
   {
    "_defaultOrder": 7,
    "_isFastLaunch": false,
    "category": "General purpose",
    "gpuNum": 0,
    "hideHardwareSpecs": false,
    "memoryGiB": 64,
    "name": "ml.m5.4xlarge",
    "vcpuNum": 16
   },
   {
    "_defaultOrder": 8,
    "_isFastLaunch": false,
    "category": "General purpose",
    "gpuNum": 0,
    "hideHardwareSpecs": false,
    "memoryGiB": 128,
    "name": "ml.m5.8xlarge",
    "vcpuNum": 32
   },
   {
    "_defaultOrder": 9,
    "_isFastLaunch": false,
    "category": "General purpose",
    "gpuNum": 0,
    "hideHardwareSpecs": false,
    "memoryGiB": 192,
    "name": "ml.m5.12xlarge",
    "vcpuNum": 48
   },
   {
    "_defaultOrder": 10,
    "_isFastLaunch": false,
    "category": "General purpose",
    "gpuNum": 0,
    "hideHardwareSpecs": false,
    "memoryGiB": 256,
    "name": "ml.m5.16xlarge",
    "vcpuNum": 64
   },
   {
    "_defaultOrder": 11,
    "_isFastLaunch": false,
    "category": "General purpose",
    "gpuNum": 0,
    "hideHardwareSpecs": false,
    "memoryGiB": 384,
    "name": "ml.m5.24xlarge",
    "vcpuNum": 96
   },
   {
    "_defaultOrder": 12,
    "_isFastLaunch": false,
    "category": "General purpose",
    "gpuNum": 0,
    "hideHardwareSpecs": false,
    "memoryGiB": 8,
    "name": "ml.m5d.large",
    "vcpuNum": 2
   },
   {
    "_defaultOrder": 13,
    "_isFastLaunch": false,
    "category": "General purpose",
    "gpuNum": 0,
    "hideHardwareSpecs": false,
    "memoryGiB": 16,
    "name": "ml.m5d.xlarge",
    "vcpuNum": 4
   },
   {
    "_defaultOrder": 14,
    "_isFastLaunch": false,
    "category": "General purpose",
    "gpuNum": 0,
    "hideHardwareSpecs": false,
    "memoryGiB": 32,
    "name": "ml.m5d.2xlarge",
    "vcpuNum": 8
   },
   {
    "_defaultOrder": 15,
    "_isFastLaunch": false,
    "category": "General purpose",
    "gpuNum": 0,
    "hideHardwareSpecs": false,
    "memoryGiB": 64,
    "name": "ml.m5d.4xlarge",
    "vcpuNum": 16
   },
   {
    "_defaultOrder": 16,
    "_isFastLaunch": false,
    "category": "General purpose",
    "gpuNum": 0,
    "hideHardwareSpecs": false,
    "memoryGiB": 128,
    "name": "ml.m5d.8xlarge",
    "vcpuNum": 32
   },
   {
    "_defaultOrder": 17,
    "_isFastLaunch": false,
    "category": "General purpose",
    "gpuNum": 0,
    "hideHardwareSpecs": false,
    "memoryGiB": 192,
    "name": "ml.m5d.12xlarge",
    "vcpuNum": 48
   },
   {
    "_defaultOrder": 18,
    "_isFastLaunch": false,
    "category": "General purpose",
    "gpuNum": 0,
    "hideHardwareSpecs": false,
    "memoryGiB": 256,
    "name": "ml.m5d.16xlarge",
    "vcpuNum": 64
   },
   {
    "_defaultOrder": 19,
    "_isFastLaunch": false,
    "category": "General purpose",
    "gpuNum": 0,
    "hideHardwareSpecs": false,
    "memoryGiB": 384,
    "name": "ml.m5d.24xlarge",
    "vcpuNum": 96
   },
   {
    "_defaultOrder": 20,
    "_isFastLaunch": false,
    "category": "General purpose",
    "gpuNum": 0,
    "hideHardwareSpecs": true,
    "memoryGiB": 0,
    "name": "ml.geospatial.interactive",
    "supportedImageNames": [
     "sagemaker-geospatial-v1-0"
    ],
    "vcpuNum": 0
   },
   {
    "_defaultOrder": 21,
    "_isFastLaunch": true,
    "category": "Compute optimized",
    "gpuNum": 0,
    "hideHardwareSpecs": false,
    "memoryGiB": 4,
    "name": "ml.c5.large",
    "vcpuNum": 2
   },
   {
    "_defaultOrder": 22,
    "_isFastLaunch": false,
    "category": "Compute optimized",
    "gpuNum": 0,
    "hideHardwareSpecs": false,
    "memoryGiB": 8,
    "name": "ml.c5.xlarge",
    "vcpuNum": 4
   },
   {
    "_defaultOrder": 23,
    "_isFastLaunch": false,
    "category": "Compute optimized",
    "gpuNum": 0,
    "hideHardwareSpecs": false,
    "memoryGiB": 16,
    "name": "ml.c5.2xlarge",
    "vcpuNum": 8
   },
   {
    "_defaultOrder": 24,
    "_isFastLaunch": false,
    "category": "Compute optimized",
    "gpuNum": 0,
    "hideHardwareSpecs": false,
    "memoryGiB": 32,
    "name": "ml.c5.4xlarge",
    "vcpuNum": 16
   },
   {
    "_defaultOrder": 25,
    "_isFastLaunch": false,
    "category": "Compute optimized",
    "gpuNum": 0,
    "hideHardwareSpecs": false,
    "memoryGiB": 72,
    "name": "ml.c5.9xlarge",
    "vcpuNum": 36
   },
   {
    "_defaultOrder": 26,
    "_isFastLaunch": false,
    "category": "Compute optimized",
    "gpuNum": 0,
    "hideHardwareSpecs": false,
    "memoryGiB": 96,
    "name": "ml.c5.12xlarge",
    "vcpuNum": 48
   },
   {
    "_defaultOrder": 27,
    "_isFastLaunch": false,
    "category": "Compute optimized",
    "gpuNum": 0,
    "hideHardwareSpecs": false,
    "memoryGiB": 144,
    "name": "ml.c5.18xlarge",
    "vcpuNum": 72
   },
   {
    "_defaultOrder": 28,
    "_isFastLaunch": false,
    "category": "Compute optimized",
    "gpuNum": 0,
    "hideHardwareSpecs": false,
    "memoryGiB": 192,
    "name": "ml.c5.24xlarge",
    "vcpuNum": 96
   },
   {
    "_defaultOrder": 29,
    "_isFastLaunch": true,
    "category": "Accelerated computing",
    "gpuNum": 1,
    "hideHardwareSpecs": false,
    "memoryGiB": 16,
    "name": "ml.g4dn.xlarge",
    "vcpuNum": 4
   },
   {
    "_defaultOrder": 30,
    "_isFastLaunch": false,
    "category": "Accelerated computing",
    "gpuNum": 1,
    "hideHardwareSpecs": false,
    "memoryGiB": 32,
    "name": "ml.g4dn.2xlarge",
    "vcpuNum": 8
   },
   {
    "_defaultOrder": 31,
    "_isFastLaunch": false,
    "category": "Accelerated computing",
    "gpuNum": 1,
    "hideHardwareSpecs": false,
    "memoryGiB": 64,
    "name": "ml.g4dn.4xlarge",
    "vcpuNum": 16
   },
   {
    "_defaultOrder": 32,
    "_isFastLaunch": false,
    "category": "Accelerated computing",
    "gpuNum": 1,
    "hideHardwareSpecs": false,
    "memoryGiB": 128,
    "name": "ml.g4dn.8xlarge",
    "vcpuNum": 32
   },
   {
    "_defaultOrder": 33,
    "_isFastLaunch": false,
    "category": "Accelerated computing",
    "gpuNum": 4,
    "hideHardwareSpecs": false,
    "memoryGiB": 192,
    "name": "ml.g4dn.12xlarge",
    "vcpuNum": 48
   },
   {
    "_defaultOrder": 34,
    "_isFastLaunch": false,
    "category": "Accelerated computing",
    "gpuNum": 1,
    "hideHardwareSpecs": false,
    "memoryGiB": 256,
    "name": "ml.g4dn.16xlarge",
    "vcpuNum": 64
   },
   {
    "_defaultOrder": 35,
    "_isFastLaunch": false,
    "category": "Accelerated computing",
    "gpuNum": 1,
    "hideHardwareSpecs": false,
    "memoryGiB": 61,
    "name": "ml.p3.2xlarge",
    "vcpuNum": 8
   },
   {
    "_defaultOrder": 36,
    "_isFastLaunch": false,
    "category": "Accelerated computing",
    "gpuNum": 4,
    "hideHardwareSpecs": false,
    "memoryGiB": 244,
    "name": "ml.p3.8xlarge",
    "vcpuNum": 32
   },
   {
    "_defaultOrder": 37,
    "_isFastLaunch": false,
    "category": "Accelerated computing",
    "gpuNum": 8,
    "hideHardwareSpecs": false,
    "memoryGiB": 488,
    "name": "ml.p3.16xlarge",
    "vcpuNum": 64
   },
   {
    "_defaultOrder": 38,
    "_isFastLaunch": false,
    "category": "Accelerated computing",
    "gpuNum": 8,
    "hideHardwareSpecs": false,
    "memoryGiB": 768,
    "name": "ml.p3dn.24xlarge",
    "vcpuNum": 96
   },
   {
    "_defaultOrder": 39,
    "_isFastLaunch": false,
    "category": "Memory Optimized",
    "gpuNum": 0,
    "hideHardwareSpecs": false,
    "memoryGiB": 16,
    "name": "ml.r5.large",
    "vcpuNum": 2
   },
   {
    "_defaultOrder": 40,
    "_isFastLaunch": false,
    "category": "Memory Optimized",
    "gpuNum": 0,
    "hideHardwareSpecs": false,
    "memoryGiB": 32,
    "name": "ml.r5.xlarge",
    "vcpuNum": 4
   },
   {
    "_defaultOrder": 41,
    "_isFastLaunch": false,
    "category": "Memory Optimized",
    "gpuNum": 0,
    "hideHardwareSpecs": false,
    "memoryGiB": 64,
    "name": "ml.r5.2xlarge",
    "vcpuNum": 8
   },
   {
    "_defaultOrder": 42,
    "_isFastLaunch": false,
    "category": "Memory Optimized",
    "gpuNum": 0,
    "hideHardwareSpecs": false,
    "memoryGiB": 128,
    "name": "ml.r5.4xlarge",
    "vcpuNum": 16
   },
   {
    "_defaultOrder": 43,
    "_isFastLaunch": false,
    "category": "Memory Optimized",
    "gpuNum": 0,
    "hideHardwareSpecs": false,
    "memoryGiB": 256,
    "name": "ml.r5.8xlarge",
    "vcpuNum": 32
   },
   {
    "_defaultOrder": 44,
    "_isFastLaunch": false,
    "category": "Memory Optimized",
    "gpuNum": 0,
    "hideHardwareSpecs": false,
    "memoryGiB": 384,
    "name": "ml.r5.12xlarge",
    "vcpuNum": 48
   },
   {
    "_defaultOrder": 45,
    "_isFastLaunch": false,
    "category": "Memory Optimized",
    "gpuNum": 0,
    "hideHardwareSpecs": false,
    "memoryGiB": 512,
    "name": "ml.r5.16xlarge",
    "vcpuNum": 64
   },
   {
    "_defaultOrder": 46,
    "_isFastLaunch": false,
    "category": "Memory Optimized",
    "gpuNum": 0,
    "hideHardwareSpecs": false,
    "memoryGiB": 768,
    "name": "ml.r5.24xlarge",
    "vcpuNum": 96
   },
   {
    "_defaultOrder": 47,
    "_isFastLaunch": false,
    "category": "Accelerated computing",
    "gpuNum": 1,
    "hideHardwareSpecs": false,
    "memoryGiB": 16,
    "name": "ml.g5.xlarge",
    "vcpuNum": 4
   },
   {
    "_defaultOrder": 48,
    "_isFastLaunch": false,
    "category": "Accelerated computing",
    "gpuNum": 1,
    "hideHardwareSpecs": false,
    "memoryGiB": 32,
    "name": "ml.g5.2xlarge",
    "vcpuNum": 8
   },
   {
    "_defaultOrder": 49,
    "_isFastLaunch": false,
    "category": "Accelerated computing",
    "gpuNum": 1,
    "hideHardwareSpecs": false,
    "memoryGiB": 64,
    "name": "ml.g5.4xlarge",
    "vcpuNum": 16
   },
   {
    "_defaultOrder": 50,
    "_isFastLaunch": false,
    "category": "Accelerated computing",
    "gpuNum": 1,
    "hideHardwareSpecs": false,
    "memoryGiB": 128,
    "name": "ml.g5.8xlarge",
    "vcpuNum": 32
   },
   {
    "_defaultOrder": 51,
    "_isFastLaunch": false,
    "category": "Accelerated computing",
    "gpuNum": 1,
    "hideHardwareSpecs": false,
    "memoryGiB": 256,
    "name": "ml.g5.16xlarge",
    "vcpuNum": 64
   },
   {
    "_defaultOrder": 52,
    "_isFastLaunch": false,
    "category": "Accelerated computing",
    "gpuNum": 4,
    "hideHardwareSpecs": false,
    "memoryGiB": 192,
    "name": "ml.g5.12xlarge",
    "vcpuNum": 48
   },
   {
    "_defaultOrder": 53,
    "_isFastLaunch": false,
    "category": "Accelerated computing",
    "gpuNum": 4,
    "hideHardwareSpecs": false,
    "memoryGiB": 384,
    "name": "ml.g5.24xlarge",
    "vcpuNum": 96
   },
   {
    "_defaultOrder": 54,
    "_isFastLaunch": false,
    "category": "Accelerated computing",
    "gpuNum": 8,
    "hideHardwareSpecs": false,
    "memoryGiB": 768,
    "name": "ml.g5.48xlarge",
    "vcpuNum": 192
   },
   {
    "_defaultOrder": 55,
    "_isFastLaunch": false,
    "category": "Accelerated computing",
    "gpuNum": 8,
    "hideHardwareSpecs": false,
    "memoryGiB": 1152,
    "name": "ml.p4d.24xlarge",
    "vcpuNum": 96
   },
   {
    "_defaultOrder": 56,
    "_isFastLaunch": false,
    "category": "Accelerated computing",
    "gpuNum": 8,
    "hideHardwareSpecs": false,
    "memoryGiB": 1152,
    "name": "ml.p4de.24xlarge",
    "vcpuNum": 96
   }
  ],
  "instance_type": "ml.t3.medium",
  "kernelspec": {
   "display_name": "Python 3 (Data Science)",
   "language": "python",
   "name": "python3__SAGEMAKER_INTERNAL__arn:aws:sagemaker:us-east-1:081325390199:image/datascience-1.0"
  },
  "language_info": {
   "codemirror_mode": {
    "name": "ipython",
    "version": 3
   },
   "file_extension": ".py",
   "mimetype": "text/x-python",
   "name": "python",
   "nbconvert_exporter": "python",
   "pygments_lexer": "ipython3",
   "version": "3.7.10"
  }
 },
 "nbformat": 4,
 "nbformat_minor": 5
}
